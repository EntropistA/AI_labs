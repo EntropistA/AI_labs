{
 "cells": [
  {
   "cell_type": "code",
   "execution_count": 6,
   "metadata": {
    "collapsed": true
   },
   "outputs": [
    {
     "name": "stdout",
     "output_type": "stream",
     "text": [
      "[1, 0, 1, 1] 1\n",
      "[0, 1, 1, 1] 1\n",
      "[0, 0, 1, 1] 1\n",
      "[1, 1, 1, 1] 1\n",
      "[0, 1, 0, 1] 1\n"
     ]
    }
   ],
   "source": [
    "data = [\n",
    "[1, 0, 1, 1],\n",
    "[0, 1, 0, 0],\n",
    "[0, 1, 1, 1],\n",
    "[1, 0, 1, 0],\n",
    "[1, 0, 0, 1],\n",
    "[0, 0, 1, 1],\n",
    "[1, 1, 1, 1],\n",
    "[1, 0, 0, 1],\n",
    "[0, 1, 0, 1],\n",
    "[0, 0, 0, 1],\n",
    "]\n",
    "cl = [1, 0, 1, 0, 0, 1, 1, 0, 1, 0]\n",
    "\n",
    "def assign_data_to_class(number_array: [int]) -> int:\n",
    "    return number_array[3] and (number_array[1] or number_array[2])\n",
    "\n",
    "for d, c in zip(data, cl):\n",
    "    if c == 1:\n",
    "        print(d, c)"
   ]
  },
  {
   "cell_type": "code",
   "execution_count": null,
   "outputs": [],
   "source": [],
   "metadata": {
    "collapsed": false
   }
  }
 ],
 "metadata": {
  "kernelspec": {
   "display_name": "Python 3",
   "language": "python",
   "name": "python3"
  },
  "language_info": {
   "codemirror_mode": {
    "name": "ipython",
    "version": 2
   },
   "file_extension": ".py",
   "mimetype": "text/x-python",
   "name": "python",
   "nbconvert_exporter": "python",
   "pygments_lexer": "ipython2",
   "version": "2.7.6"
  }
 },
 "nbformat": 4,
 "nbformat_minor": 0
}
