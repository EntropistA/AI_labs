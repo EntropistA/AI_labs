{
 "cells": [
  {
   "cell_type": "code",
   "execution_count": 1,
   "metadata": {},
   "outputs": [],
   "source": [
    "import pandas as pd\n",
    "import matplotlib.pyplot as plt\n",
    "\n",
    "import decision_trees_utils as utils\n",
    "\n",
    "import common_decision_trees_retake as cm"
   ]
  },
  {
   "cell_type": "markdown",
   "metadata": {},
   "source": [
    "# Part 1: Information Gain\n",
    "\n",
    "Important note: this exercise uses Pandas (for data manipulation and analysis) and Graphviz (for graph-drawing) libraries.\n",
    "\n",
    "This exercise consists of 3 parts. Complete the first part to get a mark of 3.0, the first two parts to get 4.0, complete all assignments to get 5.0.\n",
    "\n",
    "1.1 ) There are 10 objects (data) characterized with 5 binary attributes.\n",
    "1.2) Each object is assigned to either a class \"0\" or \"1\". The assignments are as follows (cl):"
   ]
  },
  {
   "cell_type": "code",
   "execution_count": 2,
   "metadata": {},
   "outputs": [],
   "source": [
    "attributeNames = [\"attr_1\", \"attr_2\", \"attr_3\", \"attr_4\", \"attr_5\"]\n",
    "\n",
    "data = pd.DataFrame(\n",
    "    [\n",
    "        [1, 0, 1, 1, 1],\n",
    "        [1, 1, 0, 0, 1],\n",
    "        [0, 1, 1, 1, 1],\n",
    "        [1, 0, 1, 0, 1],\n",
    "        [1, 0, 0, 1, 1],\n",
    "        [0, 0, 1, 1, 1],\n",
    "        [1, 1, 1, 1, 1],\n",
    "        [1, 0, 0, 1, 1],\n",
    "        [0, 1, 0, 0, 1],\n",
    "        [0, 0, 0, 1, 1],\n",
    "    ],\n",
    "    columns=attributeNames,\n",
    ")\n",
    "\n",
    "data[\"cl\"] = [1, 1, 1, 0, 0, 1, 1, 1, 0, 0]"
   ]
  },
  {
   "cell_type": "markdown",
   "metadata": {},
   "source": [
    "1.3 )  Finish the below function for calculating entropy. $H(CL) = - \\sum_{y \\in CL}p(y)log_2p(y)$ It should return a value of entropy for an input vector CL. Assume that $log_2(0)$ is equal to 0.\n",
    "\n",
    "1.4 ) Calculate the entropy for the CL vector  (the result should be 0.97095...):"
   ]
  },
  {
   "cell_type": "code",
   "execution_count": 3,
   "metadata": {},
   "outputs": [
    {
     "data": {
      "text/plain": "0.9709505944546686"
     },
     "execution_count": 3,
     "metadata": {},
     "output_type": "execute_result"
    }
   ],
   "source": [
    "result = utils.get_entropy(data[\"cl\"])\n",
    "assert round(result, 5) ==  0.97095, result\n",
    "result"
   ]
  },
  {
   "cell_type": "markdown",
   "metadata": {},
   "source": [
    "1.5) Finish the below function for calculating a conditional entropy: $H(CL|X) = - \\sum_{x \\in X} \\sum_{y \\in CL} p(x,y) log_2 \\frac{p(x,y)}{p(x)}$. Assume that $log_2(0)$ is equal to 0 and if $p(x) = 0$, $\\frac{p(x,y)}{p(x)}$ is equal to 0 as well."
   ]
  },
  {
   "cell_type": "markdown",
   "metadata": {},
   "source": [
    "1.6 ) Calculate conditional entropies for given attribiutes."
   ]
  },
  {
   "cell_type": "code",
   "execution_count": 4,
   "metadata": {},
   "outputs": [
    {
     "name": "stdout",
     "output_type": "stream",
     "text": [
      "0.9509775004326937\n",
      "0.9709505944546686\n"
     ]
    }
   ],
   "source": [
    "print(utils.get_conditional_entropy(data, \"attr_1\")) ### the result should be 0.95097...\n",
    "print(utils.get_conditional_entropy(data, \"attr_5\")) ### the result should be 0.97095..."
   ]
  },
  {
   "cell_type": "markdown",
   "metadata": {},
   "source": [
    "1.7 ) **Question: Which entropy is lesser and why?**\n",
    "\n",
    "The first conditional entropy is lesser since it divides the data into less chaotic gropus."
   ]
  },
  {
   "cell_type": "markdown",
   "metadata": {},
   "source": [
    "1.8) Finish the below function for calculating information gain (use getEntropy() and getConditionalEntropy() functions):"
   ]
  },
  {
   "cell_type": "code",
   "execution_count": 5,
   "metadata": {},
   "outputs": [
    {
     "name": "stdout",
     "output_type": "stream",
     "text": [
      "0.01997309402197489\n",
      "0.0\n"
     ]
    }
   ],
   "source": [
    "print(utils.get_information_gain(data, \"attr_1\"))\n",
    "print(utils.get_information_gain(data, \"attr_5\"))"
   ]
  },
  {
   "cell_type": "markdown",
   "metadata": {},
   "source": [
    "1.9) **Question: Which IG is lesser and why?**\n",
    "\n",
    "The second information gain is lesser. It equals zero, because the attribute has the same value for every possible class and therefore splitting the tree on it doesn't improve the calssification at all.\n",
    "\n",
    "It is an ideal example on low quality data which does not give any insight."
   ]
  },
  {
   "cell_type": "markdown",
   "metadata": {},
   "source": [
    "# Part 2: ID3 algorithm"
   ]
  },
  {
   "cell_type": "markdown",
   "metadata": {},
   "source": [
    "Decision tree consists of decision nodes and leaves. Nodes split data while leaves classify objects. Consider the class \"Node\" provided below. It consists of 4 fields:\n",
    "- attr - attribute ID (use the names in attributeNames vector)\n",
    "- left - left branch, i.e., a reference to other node\n",
    "- right - right branch, i.e., a reference to other node\n",
    "- value - a decision. If node = None, then the node is not a leaf. If value is not None, then a node is considered a leaf.\n",
    "\n",
    "Method __call__ returns the decision if the node is a leaf (i.e., when value is not None).\n",
    "Otherwise, it calls either the left or the right branch of an input object, based on the attribute value (0 -> left children; 1 -> right children). In this way, we can traverse the decision tree in order to find the final decision."
   ]
  },
  {
   "cell_type": "code",
   "execution_count": 6,
   "metadata": {},
   "outputs": [
    {
     "data": {
      "image/svg+xml": "<?xml version=\"1.0\" encoding=\"UTF-8\" standalone=\"no\"?>\n<!DOCTYPE svg PUBLIC \"-//W3C//DTD SVG 1.1//EN\"\n \"http://www.w3.org/Graphics/SVG/1.1/DTD/svg11.dtd\">\n<!-- Generated by graphviz version 7.0.5 (20221223.1930)\n -->\n<!-- Pages: 1 -->\n<svg width=\"290pt\" height=\"398pt\"\n viewBox=\"0.00 0.00 289.82 398.50\" xmlns=\"http://www.w3.org/2000/svg\" xmlns:xlink=\"http://www.w3.org/1999/xlink\">\n<g id=\"graph0\" class=\"graph\" transform=\"scale(1 1) rotate(0) translate(4 394.5)\">\n<polygon fill=\"white\" stroke=\"none\" points=\"-4,4 -4,-394.5 285.82,-394.5 285.82,4 -4,4\"/>\n<!-- 0 -->\n<g id=\"node1\" class=\"node\">\n<title>0</title>\n<ellipse fill=\"yellow\" stroke=\"black\" cx=\"170.91\" cy=\"-342.42\" rx=\"50.82\" ry=\"48.17\"/>\n<text text-anchor=\"middle\" x=\"170.91\" y=\"-361.22\" font-family=\"Times New Roman,serif\" font-size=\"14.00\">node id: 0</text>\n<text text-anchor=\"middle\" x=\"170.91\" y=\"-346.22\" font-family=\"Times New Roman,serif\" font-size=\"14.00\">attr_1 </text>\n<text text-anchor=\"middle\" x=\"170.91\" y=\"-331.22\" font-family=\"Times New Roman,serif\" font-size=\"14.00\">cl 0: 4</text>\n<text text-anchor=\"middle\" x=\"170.91\" y=\"-316.22\" font-family=\"Times New Roman,serif\" font-size=\"14.00\">cl 1: 6</text>\n</g>\n<!-- 1 -->\n<g id=\"node2\" class=\"node\">\n<title>1</title>\n<ellipse fill=\"yellow\" stroke=\"black\" cx=\"110.91\" cy=\"-195.25\" rx=\"50.82\" ry=\"48.17\"/>\n<text text-anchor=\"middle\" x=\"110.91\" y=\"-214.05\" font-family=\"Times New Roman,serif\" font-size=\"14.00\">node id: 1</text>\n<text text-anchor=\"middle\" x=\"110.91\" y=\"-199.05\" font-family=\"Times New Roman,serif\" font-size=\"14.00\">attr_2 </text>\n<text text-anchor=\"middle\" x=\"110.91\" y=\"-184.05\" font-family=\"Times New Roman,serif\" font-size=\"14.00\">cl 0: 2</text>\n<text text-anchor=\"middle\" x=\"110.91\" y=\"-169.05\" font-family=\"Times New Roman,serif\" font-size=\"14.00\">cl 1: 2</text>\n</g>\n<!-- 0&#45;&gt;1 -->\n<g id=\"edge3\" class=\"edge\">\n<title>0&#45;&gt;1</title>\n<path fill=\"none\" stroke=\"black\" d=\"M152.58,-297.07C146.56,-282.51 139.8,-266.14 133.5,-250.91\"/>\n<polygon fill=\"black\" stroke=\"black\" points=\"136.86,-249.88 129.81,-241.97 130.39,-252.55 136.86,-249.88\"/>\n<text text-anchor=\"middle\" x=\"146.41\" y=\"-265.13\" font-family=\"Times New Roman,serif\" font-size=\"14.00\">0</text>\n</g>\n<!-- 2 -->\n<g id=\"node5\" class=\"node\">\n<title>2</title>\n<ellipse fill=\"red\" stroke=\"black\" cx=\"230.91\" cy=\"-195.25\" rx=\"50.82\" ry=\"48.17\"/>\n<text text-anchor=\"middle\" x=\"230.91\" y=\"-214.05\" font-family=\"Times New Roman,serif\" font-size=\"14.00\">node id: 2</text>\n<text text-anchor=\"middle\" x=\"230.91\" y=\"-199.05\" font-family=\"Times New Roman,serif\" font-size=\"14.00\">cl = 2 </text>\n<text text-anchor=\"middle\" x=\"230.91\" y=\"-184.05\" font-family=\"Times New Roman,serif\" font-size=\"14.00\">cl 0: 2</text>\n<text text-anchor=\"middle\" x=\"230.91\" y=\"-169.05\" font-family=\"Times New Roman,serif\" font-size=\"14.00\">cl 1: 4</text>\n</g>\n<!-- 0&#45;&gt;2 -->\n<g id=\"edge4\" class=\"edge\">\n<title>0&#45;&gt;2</title>\n<path fill=\"none\" stroke=\"black\" d=\"M189.24,-297.07C195.26,-282.51 202.02,-266.14 208.32,-250.91\"/>\n<polygon fill=\"black\" stroke=\"black\" points=\"211.43,-252.55 212.01,-241.97 204.96,-249.88 211.43,-252.55\"/>\n<text text-anchor=\"middle\" x=\"206.41\" y=\"-265.13\" font-family=\"Times New Roman,serif\" font-size=\"14.00\">1</text>\n</g>\n<!-- 3 -->\n<g id=\"node3\" class=\"node\">\n<title>3</title>\n<ellipse fill=\"red\" stroke=\"black\" cx=\"50.91\" cy=\"-48.08\" rx=\"50.82\" ry=\"48.17\"/>\n<text text-anchor=\"middle\" x=\"50.91\" y=\"-66.88\" font-family=\"Times New Roman,serif\" font-size=\"14.00\">node id: 3</text>\n<text text-anchor=\"middle\" x=\"50.91\" y=\"-51.88\" font-family=\"Times New Roman,serif\" font-size=\"14.00\">cl = 3 </text>\n<text text-anchor=\"middle\" x=\"50.91\" y=\"-36.88\" font-family=\"Times New Roman,serif\" font-size=\"14.00\">cl 0: 1</text>\n<text text-anchor=\"middle\" x=\"50.91\" y=\"-21.88\" font-family=\"Times New Roman,serif\" font-size=\"14.00\">cl 1: 1</text>\n</g>\n<!-- 1&#45;&gt;3 -->\n<g id=\"edge1\" class=\"edge\">\n<title>1&#45;&gt;3</title>\n<path fill=\"none\" stroke=\"black\" d=\"M92.58,-149.91C86.56,-135.34 79.8,-118.98 73.5,-103.74\"/>\n<polygon fill=\"black\" stroke=\"black\" points=\"76.86,-102.71 69.81,-94.8 70.39,-105.38 76.86,-102.71\"/>\n<text text-anchor=\"middle\" x=\"86.41\" y=\"-117.97\" font-family=\"Times New Roman,serif\" font-size=\"14.00\">0</text>\n</g>\n<!-- 4 -->\n<g id=\"node4\" class=\"node\">\n<title>4</title>\n<ellipse fill=\"red\" stroke=\"black\" cx=\"170.91\" cy=\"-48.08\" rx=\"50.82\" ry=\"48.17\"/>\n<text text-anchor=\"middle\" x=\"170.91\" y=\"-66.88\" font-family=\"Times New Roman,serif\" font-size=\"14.00\">node id: 4</text>\n<text text-anchor=\"middle\" x=\"170.91\" y=\"-51.88\" font-family=\"Times New Roman,serif\" font-size=\"14.00\">cl = 4 </text>\n<text text-anchor=\"middle\" x=\"170.91\" y=\"-36.88\" font-family=\"Times New Roman,serif\" font-size=\"14.00\">cl 0: 1</text>\n<text text-anchor=\"middle\" x=\"170.91\" y=\"-21.88\" font-family=\"Times New Roman,serif\" font-size=\"14.00\">cl 1: 1</text>\n</g>\n<!-- 1&#45;&gt;4 -->\n<g id=\"edge2\" class=\"edge\">\n<title>1&#45;&gt;4</title>\n<path fill=\"none\" stroke=\"black\" d=\"M129.24,-149.91C135.26,-135.34 142.02,-118.98 148.32,-103.74\"/>\n<polygon fill=\"black\" stroke=\"black\" points=\"151.43,-105.38 152.01,-94.8 144.96,-102.71 151.43,-105.38\"/>\n<text text-anchor=\"middle\" x=\"146.41\" y=\"-117.97\" font-family=\"Times New Roman,serif\" font-size=\"14.00\">1</text>\n</g>\n</g>\n</svg>\n",
      "text/plain": "<graphviz.graphs.Digraph at 0x1e76b9ff940>"
     },
     "metadata": {},
     "output_type": "display_data"
    }
   ],
   "source": [
    "def decision_tree_example(object_to_classify: pd.Series):\n",
    "    root = cm.Node(\"attr_1\", None, None, None)  ###  IN ROOT SPLIT ON 1ST (0) ATTRIBUTE\n",
    "    lChildren = cm.Node(\"attr_2\", None, None, None)  ### IN ROOT's LEFT CHILDREN SPLIT ON 2ND (1) ATTRIBUTE\n",
    "    rChildren = cm.Node(None, None, None, 2)  ### IN ROOT's RIGHT CHILDREN -> DECISION = 2\n",
    "    root.left = lChildren\n",
    "    root.right = rChildren\n",
    "    llChildren = cm.Node(None, None, None, 3)  ### IN ROOT's LEFT-LEFT CHILDREN -> DECISION = 3\n",
    "    lrChildren = cm.Node(None, None, None, 4)  ### IN ROOT's LEFT-RIGHT CHILDREN -> DECISION = 4\n",
    "    lChildren.left = llChildren\n",
    "    lChildren.right = lrChildren\n",
    "    return root\n",
    "\n",
    "\n",
    "root = decision_tree_example(pd.Series([0, 0], ['attr 1', 'attr 2']))\n",
    "### ROOT : FIRST ATTRIBUTE = 0 SO WE GO TO LEFT CHILDREN.\n",
    "### IT IS A LEAF WITH THE DECISION = 3\n",
    "### THEN, IN THE CORRESPONDING CHILDREN, THE SECOND ATTRIBUTE = 0, SO WE GO TO LEFT-LEFT CHILDREN\n",
    "cm.print_graph(root, data)\n",
    "\n",
    "# decision_tree_example({'attr 1': 0, 'attr 2': 1})\n",
    "# decision_tree_example(pd.Series([1, 0], ['attr 1', 'attr 2']))\n",
    "# decision_tree_example({'attr 1': 1, 'attr 2': 1})"
   ]
  },
  {
   "cell_type": "markdown",
   "metadata": {},
   "source": [
    "2.1) Create an initial root. Set the value (decision) to 1. "
   ]
  },
  {
   "cell_type": "code",
   "execution_count": 7,
   "metadata": {},
   "outputs": [],
   "source": [
    "root = cm.Node(0, None, None, 1)"
   ]
  },
  {
   "cell_type": "markdown",
   "metadata": {},
   "source": [
    "2.2) Use a getErrorRate method in common.py auxiliary file to calculate the error rate. The decision is made based on the majority rule. In case of tie, the method takes 0 as the default class."
   ]
  },
  {
   "cell_type": "code",
   "execution_count": 8,
   "metadata": {},
   "outputs": [
    {
     "name": "stdout",
     "output_type": "stream",
     "text": [
      "0.4\n"
     ]
    }
   ],
   "source": [
    "result = cm.get_error_rate(root, data)\n",
    "print(result)\n",
    "assert result == 0.4, result"
   ]
  },
  {
   "cell_type": "markdown",
   "metadata": {},
   "source": [
    "2.3) Use printGraph method (see the common.py file) to draw the decision tree and save it in a png file."
   ]
  },
  {
   "cell_type": "code",
   "execution_count": 9,
   "metadata": {},
   "outputs": [
    {
     "data": {
      "image/svg+xml": "<?xml version=\"1.0\" encoding=\"UTF-8\" standalone=\"no\"?>\n<!DOCTYPE svg PUBLIC \"-//W3C//DTD SVG 1.1//EN\"\n \"http://www.w3.org/Graphics/SVG/1.1/DTD/svg11.dtd\">\n<!-- Generated by graphviz version 7.0.5 (20221223.1930)\n -->\n<!-- Pages: 1 -->\n<svg width=\"110pt\" height=\"104pt\"\n viewBox=\"0.00 0.00 109.82 104.17\" xmlns=\"http://www.w3.org/2000/svg\" xmlns:xlink=\"http://www.w3.org/1999/xlink\">\n<g id=\"graph0\" class=\"graph\" transform=\"scale(1 1) rotate(0) translate(4 100.17)\">\n<polygon fill=\"white\" stroke=\"none\" points=\"-4,4 -4,-100.17 105.82,-100.17 105.82,4 -4,4\"/>\n<!-- 0 -->\n<g id=\"node1\" class=\"node\">\n<title>0</title>\n<ellipse fill=\"red\" stroke=\"black\" cx=\"50.91\" cy=\"-48.08\" rx=\"50.82\" ry=\"48.17\"/>\n<text text-anchor=\"middle\" x=\"50.91\" y=\"-66.88\" font-family=\"Times New Roman,serif\" font-size=\"14.00\">node id: 0</text>\n<text text-anchor=\"middle\" x=\"50.91\" y=\"-51.88\" font-family=\"Times New Roman,serif\" font-size=\"14.00\">cl = 1 </text>\n<text text-anchor=\"middle\" x=\"50.91\" y=\"-36.88\" font-family=\"Times New Roman,serif\" font-size=\"14.00\">cl 0: 4</text>\n<text text-anchor=\"middle\" x=\"50.91\" y=\"-21.88\" font-family=\"Times New Roman,serif\" font-size=\"14.00\">cl 1: 6</text>\n</g>\n</g>\n</svg>\n",
      "text/plain": "<graphviz.graphs.Digraph at 0x1e76b9fe4d0>"
     },
     "metadata": {},
     "output_type": "display_data"
    }
   ],
   "source": [
    "cm.print_graph(root, data)"
   ]
  },
  {
   "cell_type": "markdown",
   "metadata": {},
   "source": [
    "2.4) Calculate information gain for all attribiutes."
   ]
  },
  {
   "cell_type": "code",
   "execution_count": 10,
   "metadata": {},
   "outputs": [
    {
     "name": "stdout",
     "output_type": "stream",
     "text": [
      "{'attr_1': 0.01997309402197489, 'attr_2': 0.0464393446710154, 'attr_3': 0.12451124978365313, 'attr_4': 0.09127744624168, 'attr_5': 0.0}\n"
     ]
    }
   ],
   "source": [
    "information_gain_for_attributes = utils.get_information_gain_for_attributes(data)\n",
    "print(information_gain_for_attributes)"
   ]
  },
  {
   "cell_type": "markdown",
   "metadata": {},
   "source": [
    "2.5) Choose the best attribute to split the data (HINT, it should be the third attribute :)). Construct two new nodes: one for $x_i$ = 0 decision and the second for $x_i$ = 1; connect them with the root (left and right branch). Remember to update the root."
   ]
  },
  {
   "cell_type": "code",
   "execution_count": 11,
   "metadata": {},
   "outputs": [
    {
     "name": "stdout",
     "output_type": "stream",
     "text": [
      "attr_3\n"
     ]
    }
   ],
   "source": [
    "chosen_attribute = utils.choose_attribute_to_split(data)\n",
    "root.attr = chosen_attribute\n",
    "left_child = cm.Node(None, None, None, 0)\n",
    "root.left = left_child\n",
    "right_child = cm.Node(None, None, None, 1)\n",
    "root.right = right_child\n",
    "root.value = None\n",
    "\n",
    "print(chosen_attribute)"
   ]
  },
  {
   "cell_type": "markdown",
   "metadata": {},
   "source": [
    "2.6) Print the graph and calculate the error rate. What happened with the error rate?"
   ]
  },
  {
   "cell_type": "code",
   "execution_count": 12,
   "outputs": [
    {
     "name": "stdout",
     "output_type": "stream",
     "text": [
      "0.30000000000000004\n"
     ]
    }
   ],
   "source": [
    "print(cm.get_error_rate(root, data))"
   ],
   "metadata": {
    "collapsed": false
   }
  },
  {
   "cell_type": "code",
   "execution_count": 13,
   "metadata": {},
   "outputs": [
    {
     "data": {
      "image/svg+xml": "<?xml version=\"1.0\" encoding=\"UTF-8\" standalone=\"no\"?>\n<!DOCTYPE svg PUBLIC \"-//W3C//DTD SVG 1.1//EN\"\n \"http://www.w3.org/Graphics/SVG/1.1/DTD/svg11.dtd\">\n<!-- Generated by graphviz version 7.0.5 (20221223.1930)\n -->\n<!-- Pages: 1 -->\n<svg width=\"230pt\" height=\"251pt\"\n viewBox=\"0.00 0.00 229.82 251.33\" xmlns=\"http://www.w3.org/2000/svg\" xmlns:xlink=\"http://www.w3.org/1999/xlink\">\n<g id=\"graph0\" class=\"graph\" transform=\"scale(1 1) rotate(0) translate(4 247.33)\">\n<polygon fill=\"white\" stroke=\"none\" points=\"-4,4 -4,-247.33 225.82,-247.33 225.82,4 -4,4\"/>\n<!-- 0 -->\n<g id=\"node1\" class=\"node\">\n<title>0</title>\n<ellipse fill=\"yellow\" stroke=\"black\" cx=\"110.91\" cy=\"-195.25\" rx=\"50.82\" ry=\"48.17\"/>\n<text text-anchor=\"middle\" x=\"110.91\" y=\"-214.05\" font-family=\"Times New Roman,serif\" font-size=\"14.00\">node id: 0</text>\n<text text-anchor=\"middle\" x=\"110.91\" y=\"-199.05\" font-family=\"Times New Roman,serif\" font-size=\"14.00\">attr_3 </text>\n<text text-anchor=\"middle\" x=\"110.91\" y=\"-184.05\" font-family=\"Times New Roman,serif\" font-size=\"14.00\">cl 0: 4</text>\n<text text-anchor=\"middle\" x=\"110.91\" y=\"-169.05\" font-family=\"Times New Roman,serif\" font-size=\"14.00\">cl 1: 6</text>\n</g>\n<!-- 1 -->\n<g id=\"node2\" class=\"node\">\n<title>1</title>\n<ellipse fill=\"green\" stroke=\"black\" cx=\"50.91\" cy=\"-48.08\" rx=\"50.82\" ry=\"48.17\"/>\n<text text-anchor=\"middle\" x=\"50.91\" y=\"-66.88\" font-family=\"Times New Roman,serif\" font-size=\"14.00\">node id: 1</text>\n<text text-anchor=\"middle\" x=\"50.91\" y=\"-51.88\" font-family=\"Times New Roman,serif\" font-size=\"14.00\">cl = 0 </text>\n<text text-anchor=\"middle\" x=\"50.91\" y=\"-36.88\" font-family=\"Times New Roman,serif\" font-size=\"14.00\">cl 0: 3</text>\n<text text-anchor=\"middle\" x=\"50.91\" y=\"-21.88\" font-family=\"Times New Roman,serif\" font-size=\"14.00\">cl 1: 2</text>\n</g>\n<!-- 0&#45;&gt;1 -->\n<g id=\"edge1\" class=\"edge\">\n<title>0&#45;&gt;1</title>\n<path fill=\"none\" stroke=\"black\" d=\"M92.58,-149.91C86.56,-135.34 79.8,-118.98 73.5,-103.74\"/>\n<polygon fill=\"black\" stroke=\"black\" points=\"76.86,-102.71 69.81,-94.8 70.39,-105.38 76.86,-102.71\"/>\n<text text-anchor=\"middle\" x=\"86.41\" y=\"-117.97\" font-family=\"Times New Roman,serif\" font-size=\"14.00\">0</text>\n</g>\n<!-- 2 -->\n<g id=\"node3\" class=\"node\">\n<title>2</title>\n<ellipse fill=\"red\" stroke=\"black\" cx=\"170.91\" cy=\"-48.08\" rx=\"50.82\" ry=\"48.17\"/>\n<text text-anchor=\"middle\" x=\"170.91\" y=\"-66.88\" font-family=\"Times New Roman,serif\" font-size=\"14.00\">node id: 2</text>\n<text text-anchor=\"middle\" x=\"170.91\" y=\"-51.88\" font-family=\"Times New Roman,serif\" font-size=\"14.00\">cl = 1 </text>\n<text text-anchor=\"middle\" x=\"170.91\" y=\"-36.88\" font-family=\"Times New Roman,serif\" font-size=\"14.00\">cl 0: 1</text>\n<text text-anchor=\"middle\" x=\"170.91\" y=\"-21.88\" font-family=\"Times New Roman,serif\" font-size=\"14.00\">cl 1: 4</text>\n</g>\n<!-- 0&#45;&gt;2 -->\n<g id=\"edge2\" class=\"edge\">\n<title>0&#45;&gt;2</title>\n<path fill=\"none\" stroke=\"black\" d=\"M129.24,-149.91C135.26,-135.34 142.02,-118.98 148.32,-103.74\"/>\n<polygon fill=\"black\" stroke=\"black\" points=\"151.43,-105.38 152.01,-94.8 144.96,-102.71 151.43,-105.38\"/>\n<text text-anchor=\"middle\" x=\"145.41\" y=\"-117.97\" font-family=\"Times New Roman,serif\" font-size=\"14.00\">1</text>\n</g>\n</g>\n</svg>\n",
      "text/plain": "<graphviz.graphs.Digraph at 0x1e76ba44670>"
     },
     "metadata": {},
     "output_type": "display_data"
    }
   ],
   "source": [
    "cm.print_graph(root, data)"
   ]
  },
  {
   "cell_type": "markdown",
   "metadata": {},
   "source": [
    "2.7) Split the 'data' (table) based on the selected attribiute, i.e., create two new tables."
   ]
  },
  {
   "cell_type": "code",
   "execution_count": 14,
   "metadata": {},
   "outputs": [
    {
     "data": {
      "text/plain": "   attr_1  attr_2  attr_3  attr_4  attr_5  cl\n1       1       1       0       0       1   1\n4       1       0       0       1       1   0\n7       1       0       0       1       1   1\n8       0       1       0       0       1   0\n9       0       0       0       1       1   0",
      "text/html": "<div>\n<style scoped>\n    .dataframe tbody tr th:only-of-type {\n        vertical-align: middle;\n    }\n\n    .dataframe tbody tr th {\n        vertical-align: top;\n    }\n\n    .dataframe thead th {\n        text-align: right;\n    }\n</style>\n<table border=\"1\" class=\"dataframe\">\n  <thead>\n    <tr style=\"text-align: right;\">\n      <th></th>\n      <th>attr_1</th>\n      <th>attr_2</th>\n      <th>attr_3</th>\n      <th>attr_4</th>\n      <th>attr_5</th>\n      <th>cl</th>\n    </tr>\n  </thead>\n  <tbody>\n    <tr>\n      <th>1</th>\n      <td>1</td>\n      <td>1</td>\n      <td>0</td>\n      <td>0</td>\n      <td>1</td>\n      <td>1</td>\n    </tr>\n    <tr>\n      <th>4</th>\n      <td>1</td>\n      <td>0</td>\n      <td>0</td>\n      <td>1</td>\n      <td>1</td>\n      <td>0</td>\n    </tr>\n    <tr>\n      <th>7</th>\n      <td>1</td>\n      <td>0</td>\n      <td>0</td>\n      <td>1</td>\n      <td>1</td>\n      <td>1</td>\n    </tr>\n    <tr>\n      <th>8</th>\n      <td>0</td>\n      <td>1</td>\n      <td>0</td>\n      <td>0</td>\n      <td>1</td>\n      <td>0</td>\n    </tr>\n    <tr>\n      <th>9</th>\n      <td>0</td>\n      <td>0</td>\n      <td>0</td>\n      <td>1</td>\n      <td>1</td>\n      <td>0</td>\n    </tr>\n  </tbody>\n</table>\n</div>"
     },
     "execution_count": 14,
     "metadata": {},
     "output_type": "execute_result"
    }
   ],
   "source": [
    "left_data, right_data = utils.split_data_by_the_best_attribute(data)\n",
    "left_data"
   ]
  },
  {
   "cell_type": "code",
   "execution_count": 15,
   "outputs": [
    {
     "data": {
      "text/plain": "   attr_1  attr_2  attr_3  attr_4  attr_5  cl\n0       1       0       1       1       1   1\n2       0       1       1       1       1   1\n3       1       0       1       0       1   0\n5       0       0       1       1       1   1\n6       1       1       1       1       1   1",
      "text/html": "<div>\n<style scoped>\n    .dataframe tbody tr th:only-of-type {\n        vertical-align: middle;\n    }\n\n    .dataframe tbody tr th {\n        vertical-align: top;\n    }\n\n    .dataframe thead th {\n        text-align: right;\n    }\n</style>\n<table border=\"1\" class=\"dataframe\">\n  <thead>\n    <tr style=\"text-align: right;\">\n      <th></th>\n      <th>attr_1</th>\n      <th>attr_2</th>\n      <th>attr_3</th>\n      <th>attr_4</th>\n      <th>attr_5</th>\n      <th>cl</th>\n    </tr>\n  </thead>\n  <tbody>\n    <tr>\n      <th>0</th>\n      <td>1</td>\n      <td>0</td>\n      <td>1</td>\n      <td>1</td>\n      <td>1</td>\n      <td>1</td>\n    </tr>\n    <tr>\n      <th>2</th>\n      <td>0</td>\n      <td>1</td>\n      <td>1</td>\n      <td>1</td>\n      <td>1</td>\n      <td>1</td>\n    </tr>\n    <tr>\n      <th>3</th>\n      <td>1</td>\n      <td>0</td>\n      <td>1</td>\n      <td>0</td>\n      <td>1</td>\n      <td>0</td>\n    </tr>\n    <tr>\n      <th>5</th>\n      <td>0</td>\n      <td>0</td>\n      <td>1</td>\n      <td>1</td>\n      <td>1</td>\n      <td>1</td>\n    </tr>\n    <tr>\n      <th>6</th>\n      <td>1</td>\n      <td>1</td>\n      <td>1</td>\n      <td>1</td>\n      <td>1</td>\n      <td>1</td>\n    </tr>\n  </tbody>\n</table>\n</div>"
     },
     "execution_count": 15,
     "metadata": {},
     "output_type": "execute_result"
    }
   ],
   "source": [
    "right_data"
   ],
   "metadata": {
    "collapsed": false
   }
  },
  {
   "cell_type": "markdown",
   "metadata": {},
   "source": [
    "2.8) Let us start with the left node. Firstly, calculate information gain for this node."
   ]
  },
  {
   "cell_type": "code",
   "execution_count": 16,
   "metadata": {},
   "outputs": [
    {
     "data": {
      "text/plain": "{'attr_1': 0.4199730940219749,\n 'attr_2': 0.01997309402197489,\n 'attr_3': 0.0,\n 'attr_4': 0.01997309402197489,\n 'attr_5': 0.0}"
     },
     "execution_count": 16,
     "metadata": {},
     "output_type": "execute_result"
    }
   ],
   "source": [
    "utils.get_information_gain_for_attributes(left_data)"
   ]
  },
  {
   "cell_type": "markdown",
   "metadata": {},
   "source": [
    "2.9) Choose the best attribute to split the data and then update the decision tree."
   ]
  },
  {
   "cell_type": "code",
   "execution_count": 17,
   "metadata": {},
   "outputs": [
    {
     "name": "stdout",
     "output_type": "stream",
     "text": [
      "attr_1\n"
     ]
    }
   ],
   "source": [
    "print(utils.choose_attribute_to_split(left_data))\n",
    "\n",
    "cm.add_children_to_leaf(root.left, utils.choose_attribute_to_split(left_data))"
   ]
  },
  {
   "cell_type": "markdown",
   "metadata": {},
   "source": [
    "2.10) Print the graph and calculate the error rate (HINT: should be 0.2 :). What happened with the error rate?"
   ]
  },
  {
   "cell_type": "code",
   "execution_count": 18,
   "outputs": [
    {
     "data": {
      "text/plain": "0.19999999999999996"
     },
     "execution_count": 18,
     "metadata": {},
     "output_type": "execute_result"
    }
   ],
   "source": [
    "cm.get_error_rate(root, data=data)  # Error rate has decreased"
   ],
   "metadata": {
    "collapsed": false
   }
  },
  {
   "cell_type": "code",
   "execution_count": 19,
   "metadata": {},
   "outputs": [
    {
     "data": {
      "image/svg+xml": "<?xml version=\"1.0\" encoding=\"UTF-8\" standalone=\"no\"?>\n<!DOCTYPE svg PUBLIC \"-//W3C//DTD SVG 1.1//EN\"\n \"http://www.w3.org/Graphics/SVG/1.1/DTD/svg11.dtd\">\n<!-- Generated by graphviz version 7.0.5 (20221223.1930)\n -->\n<!-- Pages: 1 -->\n<svg width=\"290pt\" height=\"398pt\"\n viewBox=\"0.00 0.00 289.82 398.50\" xmlns=\"http://www.w3.org/2000/svg\" xmlns:xlink=\"http://www.w3.org/1999/xlink\">\n<g id=\"graph0\" class=\"graph\" transform=\"scale(1 1) rotate(0) translate(4 394.5)\">\n<polygon fill=\"white\" stroke=\"none\" points=\"-4,4 -4,-394.5 285.82,-394.5 285.82,4 -4,4\"/>\n<!-- 0 -->\n<g id=\"node1\" class=\"node\">\n<title>0</title>\n<ellipse fill=\"yellow\" stroke=\"black\" cx=\"170.91\" cy=\"-342.42\" rx=\"50.82\" ry=\"48.17\"/>\n<text text-anchor=\"middle\" x=\"170.91\" y=\"-361.22\" font-family=\"Times New Roman,serif\" font-size=\"14.00\">node id: 0</text>\n<text text-anchor=\"middle\" x=\"170.91\" y=\"-346.22\" font-family=\"Times New Roman,serif\" font-size=\"14.00\">attr_3 </text>\n<text text-anchor=\"middle\" x=\"170.91\" y=\"-331.22\" font-family=\"Times New Roman,serif\" font-size=\"14.00\">cl 0: 4</text>\n<text text-anchor=\"middle\" x=\"170.91\" y=\"-316.22\" font-family=\"Times New Roman,serif\" font-size=\"14.00\">cl 1: 6</text>\n</g>\n<!-- 1 -->\n<g id=\"node2\" class=\"node\">\n<title>1</title>\n<ellipse fill=\"yellow\" stroke=\"black\" cx=\"110.91\" cy=\"-195.25\" rx=\"50.82\" ry=\"48.17\"/>\n<text text-anchor=\"middle\" x=\"110.91\" y=\"-214.05\" font-family=\"Times New Roman,serif\" font-size=\"14.00\">node id: 1</text>\n<text text-anchor=\"middle\" x=\"110.91\" y=\"-199.05\" font-family=\"Times New Roman,serif\" font-size=\"14.00\">attr_1 </text>\n<text text-anchor=\"middle\" x=\"110.91\" y=\"-184.05\" font-family=\"Times New Roman,serif\" font-size=\"14.00\">cl 0: 3</text>\n<text text-anchor=\"middle\" x=\"110.91\" y=\"-169.05\" font-family=\"Times New Roman,serif\" font-size=\"14.00\">cl 1: 2</text>\n</g>\n<!-- 0&#45;&gt;1 -->\n<g id=\"edge3\" class=\"edge\">\n<title>0&#45;&gt;1</title>\n<path fill=\"none\" stroke=\"black\" d=\"M152.58,-297.07C146.56,-282.51 139.8,-266.14 133.5,-250.91\"/>\n<polygon fill=\"black\" stroke=\"black\" points=\"136.86,-249.88 129.81,-241.97 130.39,-252.55 136.86,-249.88\"/>\n<text text-anchor=\"middle\" x=\"146.41\" y=\"-265.13\" font-family=\"Times New Roman,serif\" font-size=\"14.00\">0</text>\n</g>\n<!-- 2 -->\n<g id=\"node5\" class=\"node\">\n<title>2</title>\n<ellipse fill=\"red\" stroke=\"black\" cx=\"230.91\" cy=\"-195.25\" rx=\"50.82\" ry=\"48.17\"/>\n<text text-anchor=\"middle\" x=\"230.91\" y=\"-214.05\" font-family=\"Times New Roman,serif\" font-size=\"14.00\">node id: 2</text>\n<text text-anchor=\"middle\" x=\"230.91\" y=\"-199.05\" font-family=\"Times New Roman,serif\" font-size=\"14.00\">cl = 1 </text>\n<text text-anchor=\"middle\" x=\"230.91\" y=\"-184.05\" font-family=\"Times New Roman,serif\" font-size=\"14.00\">cl 0: 1</text>\n<text text-anchor=\"middle\" x=\"230.91\" y=\"-169.05\" font-family=\"Times New Roman,serif\" font-size=\"14.00\">cl 1: 4</text>\n</g>\n<!-- 0&#45;&gt;2 -->\n<g id=\"edge4\" class=\"edge\">\n<title>0&#45;&gt;2</title>\n<path fill=\"none\" stroke=\"black\" d=\"M189.24,-297.07C195.26,-282.51 202.02,-266.14 208.32,-250.91\"/>\n<polygon fill=\"black\" stroke=\"black\" points=\"211.43,-252.55 212.01,-241.97 204.96,-249.88 211.43,-252.55\"/>\n<text text-anchor=\"middle\" x=\"206.41\" y=\"-265.13\" font-family=\"Times New Roman,serif\" font-size=\"14.00\">1</text>\n</g>\n<!-- 3 -->\n<g id=\"node3\" class=\"node\">\n<title>3</title>\n<ellipse fill=\"green\" stroke=\"black\" cx=\"50.91\" cy=\"-48.08\" rx=\"50.82\" ry=\"48.17\"/>\n<text text-anchor=\"middle\" x=\"50.91\" y=\"-66.88\" font-family=\"Times New Roman,serif\" font-size=\"14.00\">node id: 3</text>\n<text text-anchor=\"middle\" x=\"50.91\" y=\"-51.88\" font-family=\"Times New Roman,serif\" font-size=\"14.00\">cl = 0 </text>\n<text text-anchor=\"middle\" x=\"50.91\" y=\"-36.88\" font-family=\"Times New Roman,serif\" font-size=\"14.00\">cl 0: 2</text>\n<text text-anchor=\"middle\" x=\"50.91\" y=\"-21.88\" font-family=\"Times New Roman,serif\" font-size=\"14.00\">cl 1: 0</text>\n</g>\n<!-- 1&#45;&gt;3 -->\n<g id=\"edge1\" class=\"edge\">\n<title>1&#45;&gt;3</title>\n<path fill=\"none\" stroke=\"black\" d=\"M92.58,-149.91C86.56,-135.34 79.8,-118.98 73.5,-103.74\"/>\n<polygon fill=\"black\" stroke=\"black\" points=\"76.86,-102.71 69.81,-94.8 70.39,-105.38 76.86,-102.71\"/>\n<text text-anchor=\"middle\" x=\"86.41\" y=\"-117.97\" font-family=\"Times New Roman,serif\" font-size=\"14.00\">0</text>\n</g>\n<!-- 4 -->\n<g id=\"node4\" class=\"node\">\n<title>4</title>\n<ellipse fill=\"red\" stroke=\"black\" cx=\"170.91\" cy=\"-48.08\" rx=\"50.82\" ry=\"48.17\"/>\n<text text-anchor=\"middle\" x=\"170.91\" y=\"-66.88\" font-family=\"Times New Roman,serif\" font-size=\"14.00\">node id: 4</text>\n<text text-anchor=\"middle\" x=\"170.91\" y=\"-51.88\" font-family=\"Times New Roman,serif\" font-size=\"14.00\">cl = 1 </text>\n<text text-anchor=\"middle\" x=\"170.91\" y=\"-36.88\" font-family=\"Times New Roman,serif\" font-size=\"14.00\">cl 0: 1</text>\n<text text-anchor=\"middle\" x=\"170.91\" y=\"-21.88\" font-family=\"Times New Roman,serif\" font-size=\"14.00\">cl 1: 2</text>\n</g>\n<!-- 1&#45;&gt;4 -->\n<g id=\"edge2\" class=\"edge\">\n<title>1&#45;&gt;4</title>\n<path fill=\"none\" stroke=\"black\" d=\"M129.24,-149.91C135.26,-135.34 142.02,-118.98 148.32,-103.74\"/>\n<polygon fill=\"black\" stroke=\"black\" points=\"151.43,-105.38 152.01,-94.8 144.96,-102.71 151.43,-105.38\"/>\n<text text-anchor=\"middle\" x=\"146.41\" y=\"-117.97\" font-family=\"Times New Roman,serif\" font-size=\"14.00\">1</text>\n</g>\n</g>\n</svg>\n",
      "text/plain": "<graphviz.graphs.Digraph at 0x1e76ba450c0>"
     },
     "metadata": {},
     "output_type": "display_data"
    }
   ],
   "source": [
    "cm.print_graph(root, data=data)"
   ]
  },
  {
   "cell_type": "markdown",
   "metadata": {},
   "source": [
    "2.11) Split data (remember that we split left_data, not data)."
   ]
  },
  {
   "cell_type": "code",
   "execution_count": 20,
   "metadata": {},
   "outputs": [],
   "source": [
    "left_left_data, left_right_data = utils.split_data_by_the_best_attribute(left_data)"
   ]
  },
  {
   "cell_type": "markdown",
   "metadata": {},
   "source": [
    "2.12) Repeat the whole process for the right node."
   ]
  },
  {
   "cell_type": "code",
   "execution_count": 21,
   "metadata": {},
   "outputs": [
    {
     "data": {
      "image/svg+xml": "<?xml version=\"1.0\" encoding=\"UTF-8\" standalone=\"no\"?>\n<!DOCTYPE svg PUBLIC \"-//W3C//DTD SVG 1.1//EN\"\n \"http://www.w3.org/Graphics/SVG/1.1/DTD/svg11.dtd\">\n<!-- Generated by graphviz version 7.0.5 (20221223.1930)\n -->\n<!-- Pages: 1 -->\n<svg width=\"470pt\" height=\"398pt\"\n viewBox=\"0.00 0.00 469.82 398.50\" xmlns=\"http://www.w3.org/2000/svg\" xmlns:xlink=\"http://www.w3.org/1999/xlink\">\n<g id=\"graph0\" class=\"graph\" transform=\"scale(1 1) rotate(0) translate(4 394.5)\">\n<polygon fill=\"white\" stroke=\"none\" points=\"-4,4 -4,-394.5 465.82,-394.5 465.82,4 -4,4\"/>\n<!-- 0 -->\n<g id=\"node1\" class=\"node\">\n<title>0</title>\n<ellipse fill=\"yellow\" stroke=\"black\" cx=\"230.91\" cy=\"-342.42\" rx=\"50.82\" ry=\"48.17\"/>\n<text text-anchor=\"middle\" x=\"230.91\" y=\"-361.22\" font-family=\"Times New Roman,serif\" font-size=\"14.00\">node id: 0</text>\n<text text-anchor=\"middle\" x=\"230.91\" y=\"-346.22\" font-family=\"Times New Roman,serif\" font-size=\"14.00\">attr_3 </text>\n<text text-anchor=\"middle\" x=\"230.91\" y=\"-331.22\" font-family=\"Times New Roman,serif\" font-size=\"14.00\">cl 0: 4</text>\n<text text-anchor=\"middle\" x=\"230.91\" y=\"-316.22\" font-family=\"Times New Roman,serif\" font-size=\"14.00\">cl 1: 6</text>\n</g>\n<!-- 1 -->\n<g id=\"node2\" class=\"node\">\n<title>1</title>\n<ellipse fill=\"yellow\" stroke=\"black\" cx=\"170.91\" cy=\"-195.25\" rx=\"50.82\" ry=\"48.17\"/>\n<text text-anchor=\"middle\" x=\"170.91\" y=\"-214.05\" font-family=\"Times New Roman,serif\" font-size=\"14.00\">node id: 1</text>\n<text text-anchor=\"middle\" x=\"170.91\" y=\"-199.05\" font-family=\"Times New Roman,serif\" font-size=\"14.00\">attr_1 </text>\n<text text-anchor=\"middle\" x=\"170.91\" y=\"-184.05\" font-family=\"Times New Roman,serif\" font-size=\"14.00\">cl 0: 3</text>\n<text text-anchor=\"middle\" x=\"170.91\" y=\"-169.05\" font-family=\"Times New Roman,serif\" font-size=\"14.00\">cl 1: 2</text>\n</g>\n<!-- 0&#45;&gt;1 -->\n<g id=\"edge5\" class=\"edge\">\n<title>0&#45;&gt;1</title>\n<path fill=\"none\" stroke=\"black\" d=\"M212.58,-297.07C206.56,-282.51 199.8,-266.14 193.5,-250.91\"/>\n<polygon fill=\"black\" stroke=\"black\" points=\"196.86,-249.88 189.81,-241.97 190.39,-252.55 196.86,-249.88\"/>\n<text text-anchor=\"middle\" x=\"206.41\" y=\"-265.13\" font-family=\"Times New Roman,serif\" font-size=\"14.00\">0</text>\n</g>\n<!-- 2 -->\n<g id=\"node5\" class=\"node\">\n<title>2</title>\n<ellipse fill=\"yellow\" stroke=\"black\" cx=\"290.91\" cy=\"-195.25\" rx=\"50.82\" ry=\"48.17\"/>\n<text text-anchor=\"middle\" x=\"290.91\" y=\"-214.05\" font-family=\"Times New Roman,serif\" font-size=\"14.00\">node id: 2</text>\n<text text-anchor=\"middle\" x=\"290.91\" y=\"-199.05\" font-family=\"Times New Roman,serif\" font-size=\"14.00\">attr_4 </text>\n<text text-anchor=\"middle\" x=\"290.91\" y=\"-184.05\" font-family=\"Times New Roman,serif\" font-size=\"14.00\">cl 0: 1</text>\n<text text-anchor=\"middle\" x=\"290.91\" y=\"-169.05\" font-family=\"Times New Roman,serif\" font-size=\"14.00\">cl 1: 4</text>\n</g>\n<!-- 0&#45;&gt;2 -->\n<g id=\"edge6\" class=\"edge\">\n<title>0&#45;&gt;2</title>\n<path fill=\"none\" stroke=\"black\" d=\"M249.24,-297.07C255.26,-282.51 262.02,-266.14 268.32,-250.91\"/>\n<polygon fill=\"black\" stroke=\"black\" points=\"271.43,-252.55 272.01,-241.97 264.96,-249.88 271.43,-252.55\"/>\n<text text-anchor=\"middle\" x=\"266.41\" y=\"-265.13\" font-family=\"Times New Roman,serif\" font-size=\"14.00\">1</text>\n</g>\n<!-- 3 -->\n<g id=\"node3\" class=\"node\">\n<title>3</title>\n<ellipse fill=\"green\" stroke=\"black\" cx=\"50.91\" cy=\"-48.08\" rx=\"50.82\" ry=\"48.17\"/>\n<text text-anchor=\"middle\" x=\"50.91\" y=\"-66.88\" font-family=\"Times New Roman,serif\" font-size=\"14.00\">node id: 3</text>\n<text text-anchor=\"middle\" x=\"50.91\" y=\"-51.88\" font-family=\"Times New Roman,serif\" font-size=\"14.00\">cl = 0 </text>\n<text text-anchor=\"middle\" x=\"50.91\" y=\"-36.88\" font-family=\"Times New Roman,serif\" font-size=\"14.00\">cl 0: 2</text>\n<text text-anchor=\"middle\" x=\"50.91\" y=\"-21.88\" font-family=\"Times New Roman,serif\" font-size=\"14.00\">cl 1: 0</text>\n</g>\n<!-- 1&#45;&gt;3 -->\n<g id=\"edge1\" class=\"edge\">\n<title>1&#45;&gt;3</title>\n<path fill=\"none\" stroke=\"black\" d=\"M140.01,-156.87C124.53,-138.14 105.65,-115.3 89.25,-95.47\"/>\n<polygon fill=\"black\" stroke=\"black\" points=\"91.95,-93.24 82.88,-87.76 86.56,-97.7 91.95,-93.24\"/>\n<text text-anchor=\"middle\" x=\"118.41\" y=\"-117.97\" font-family=\"Times New Roman,serif\" font-size=\"14.00\">0</text>\n</g>\n<!-- 4 -->\n<g id=\"node4\" class=\"node\">\n<title>4</title>\n<ellipse fill=\"red\" stroke=\"black\" cx=\"170.91\" cy=\"-48.08\" rx=\"50.82\" ry=\"48.17\"/>\n<text text-anchor=\"middle\" x=\"170.91\" y=\"-66.88\" font-family=\"Times New Roman,serif\" font-size=\"14.00\">node id: 4</text>\n<text text-anchor=\"middle\" x=\"170.91\" y=\"-51.88\" font-family=\"Times New Roman,serif\" font-size=\"14.00\">cl = 1 </text>\n<text text-anchor=\"middle\" x=\"170.91\" y=\"-36.88\" font-family=\"Times New Roman,serif\" font-size=\"14.00\">cl 0: 1</text>\n<text text-anchor=\"middle\" x=\"170.91\" y=\"-21.88\" font-family=\"Times New Roman,serif\" font-size=\"14.00\">cl 1: 2</text>\n</g>\n<!-- 1&#45;&gt;4 -->\n<g id=\"edge2\" class=\"edge\">\n<title>1&#45;&gt;4</title>\n<path fill=\"none\" stroke=\"black\" d=\"M170.91,-146.72C170.91,-134.31 170.91,-120.79 170.91,-107.87\"/>\n<polygon fill=\"black\" stroke=\"black\" points=\"174.41,-108.24 170.91,-98.24 167.41,-108.24 174.41,-108.24\"/>\n<text text-anchor=\"middle\" x=\"174.41\" y=\"-117.97\" font-family=\"Times New Roman,serif\" font-size=\"14.00\">1</text>\n</g>\n<!-- 5 -->\n<g id=\"node6\" class=\"node\">\n<title>5</title>\n<ellipse fill=\"green\" stroke=\"black\" cx=\"290.91\" cy=\"-48.08\" rx=\"50.82\" ry=\"48.17\"/>\n<text text-anchor=\"middle\" x=\"290.91\" y=\"-66.88\" font-family=\"Times New Roman,serif\" font-size=\"14.00\">node id: 5</text>\n<text text-anchor=\"middle\" x=\"290.91\" y=\"-51.88\" font-family=\"Times New Roman,serif\" font-size=\"14.00\">cl = 0 </text>\n<text text-anchor=\"middle\" x=\"290.91\" y=\"-36.88\" font-family=\"Times New Roman,serif\" font-size=\"14.00\">cl 0: 1</text>\n<text text-anchor=\"middle\" x=\"290.91\" y=\"-21.88\" font-family=\"Times New Roman,serif\" font-size=\"14.00\">cl 1: 0</text>\n</g>\n<!-- 2&#45;&gt;5 -->\n<g id=\"edge3\" class=\"edge\">\n<title>2&#45;&gt;5</title>\n<path fill=\"none\" stroke=\"black\" d=\"M290.91,-146.72C290.91,-134.31 290.91,-120.79 290.91,-107.87\"/>\n<polygon fill=\"black\" stroke=\"black\" points=\"294.41,-108.24 290.91,-98.24 287.41,-108.24 294.41,-108.24\"/>\n<text text-anchor=\"middle\" x=\"294.41\" y=\"-117.97\" font-family=\"Times New Roman,serif\" font-size=\"14.00\">0</text>\n</g>\n<!-- 6 -->\n<g id=\"node7\" class=\"node\">\n<title>6</title>\n<ellipse fill=\"red\" stroke=\"black\" cx=\"410.91\" cy=\"-48.08\" rx=\"50.82\" ry=\"48.17\"/>\n<text text-anchor=\"middle\" x=\"410.91\" y=\"-66.88\" font-family=\"Times New Roman,serif\" font-size=\"14.00\">node id: 6</text>\n<text text-anchor=\"middle\" x=\"410.91\" y=\"-51.88\" font-family=\"Times New Roman,serif\" font-size=\"14.00\">cl = 1 </text>\n<text text-anchor=\"middle\" x=\"410.91\" y=\"-36.88\" font-family=\"Times New Roman,serif\" font-size=\"14.00\">cl 0: 0</text>\n<text text-anchor=\"middle\" x=\"410.91\" y=\"-21.88\" font-family=\"Times New Roman,serif\" font-size=\"14.00\">cl 1: 4</text>\n</g>\n<!-- 2&#45;&gt;6 -->\n<g id=\"edge4\" class=\"edge\">\n<title>2&#45;&gt;6</title>\n<path fill=\"none\" stroke=\"black\" d=\"M321.81,-156.87C337.29,-138.14 356.18,-115.3 372.57,-95.47\"/>\n<polygon fill=\"black\" stroke=\"black\" points=\"375.27,-97.7 378.94,-87.76 369.87,-93.24 375.27,-97.7\"/>\n<text text-anchor=\"middle\" x=\"358.41\" y=\"-117.97\" font-family=\"Times New Roman,serif\" font-size=\"14.00\">1</text>\n</g>\n</g>\n</svg>\n",
      "text/plain": "<graphviz.graphs.Digraph at 0x1e76ba44d30>"
     },
     "metadata": {},
     "output_type": "display_data"
    }
   ],
   "source": [
    "cm.add_children_to_leaf(root.right, utils.choose_attribute_to_split(right_data))\n",
    "cm.print_graph(root, data=data)"
   ]
  },
  {
   "cell_type": "markdown",
   "metadata": {},
   "source": [
    "2.13) Let's consider left-left node. Calculate information gain for it."
   ]
  },
  {
   "cell_type": "code",
   "execution_count": 22,
   "metadata": {},
   "outputs": [
    {
     "data": {
      "text/plain": "{'attr_1': 0.0, 'attr_2': 0.0, 'attr_3': 0.0, 'attr_4': 0.0, 'attr_5': 0.0}"
     },
     "execution_count": 22,
     "metadata": {},
     "output_type": "execute_result"
    }
   ],
   "source": [
    "utils.get_information_gain_for_attributes(left_left_data)"
   ]
  },
  {
   "cell_type": "markdown",
   "metadata": {},
   "source": [
    "2.14) Will adding a new node to the tree improve its effectiveness? Why? Why not?\n",
    "\n",
    "Adding a new node won't improve the effectivness of the tree since all calculated information gains are equal to 0. Therefore splitting on any atrribute will not improve the quality of classification."
   ]
  },
  {
   "cell_type": "markdown",
   "metadata": {},
   "source": [
    "2.15) Calculate information gain for the left-right node. (and update the tree)"
   ]
  },
  {
   "cell_type": "code",
   "execution_count": 23,
   "metadata": {},
   "outputs": [
    {
     "data": {
      "text/plain": "{'attr_1': 0.0,\n 'attr_2': 0.2516291673878229,\n 'attr_3': 0.0,\n 'attr_4': 0.2516291673878229,\n 'attr_5': 0.0}"
     },
     "execution_count": 23,
     "metadata": {},
     "output_type": "execute_result"
    }
   ],
   "source": [
    "utils.get_information_gain_for_attributes(left_right_data)"
   ]
  },
  {
   "cell_type": "code",
   "execution_count": 24,
   "metadata": {},
   "outputs": [],
   "source": [
    "cm.add_children_to_leaf(root.left.right, utils.choose_attribute_to_split(left_right_data))"
   ]
  },
  {
   "cell_type": "code",
   "execution_count": 25,
   "outputs": [
    {
     "data": {
      "image/svg+xml": "<?xml version=\"1.0\" encoding=\"UTF-8\" standalone=\"no\"?>\n<!DOCTYPE svg PUBLIC \"-//W3C//DTD SVG 1.1//EN\"\n \"http://www.w3.org/Graphics/SVG/1.1/DTD/svg11.dtd\">\n<!-- Generated by graphviz version 7.0.5 (20221223.1930)\n -->\n<!-- Pages: 1 -->\n<svg width=\"470pt\" height=\"546pt\"\n viewBox=\"0.00 0.00 469.82 545.67\" xmlns=\"http://www.w3.org/2000/svg\" xmlns:xlink=\"http://www.w3.org/1999/xlink\">\n<g id=\"graph0\" class=\"graph\" transform=\"scale(1 1) rotate(0) translate(4 541.67)\">\n<polygon fill=\"white\" stroke=\"none\" points=\"-4,4 -4,-541.67 465.82,-541.67 465.82,4 -4,4\"/>\n<!-- 0 -->\n<g id=\"node1\" class=\"node\">\n<title>0</title>\n<ellipse fill=\"yellow\" stroke=\"black\" cx=\"230.91\" cy=\"-489.58\" rx=\"50.82\" ry=\"48.17\"/>\n<text text-anchor=\"middle\" x=\"230.91\" y=\"-508.38\" font-family=\"Times New Roman,serif\" font-size=\"14.00\">node id: 0</text>\n<text text-anchor=\"middle\" x=\"230.91\" y=\"-493.38\" font-family=\"Times New Roman,serif\" font-size=\"14.00\">attr_3 </text>\n<text text-anchor=\"middle\" x=\"230.91\" y=\"-478.38\" font-family=\"Times New Roman,serif\" font-size=\"14.00\">cl 0: 4</text>\n<text text-anchor=\"middle\" x=\"230.91\" y=\"-463.38\" font-family=\"Times New Roman,serif\" font-size=\"14.00\">cl 1: 6</text>\n</g>\n<!-- 1 -->\n<g id=\"node2\" class=\"node\">\n<title>1</title>\n<ellipse fill=\"yellow\" stroke=\"black\" cx=\"170.91\" cy=\"-342.42\" rx=\"50.82\" ry=\"48.17\"/>\n<text text-anchor=\"middle\" x=\"170.91\" y=\"-361.22\" font-family=\"Times New Roman,serif\" font-size=\"14.00\">node id: 1</text>\n<text text-anchor=\"middle\" x=\"170.91\" y=\"-346.22\" font-family=\"Times New Roman,serif\" font-size=\"14.00\">attr_1 </text>\n<text text-anchor=\"middle\" x=\"170.91\" y=\"-331.22\" font-family=\"Times New Roman,serif\" font-size=\"14.00\">cl 0: 3</text>\n<text text-anchor=\"middle\" x=\"170.91\" y=\"-316.22\" font-family=\"Times New Roman,serif\" font-size=\"14.00\">cl 1: 2</text>\n</g>\n<!-- 0&#45;&gt;1 -->\n<g id=\"edge7\" class=\"edge\">\n<title>0&#45;&gt;1</title>\n<path fill=\"none\" stroke=\"black\" d=\"M212.58,-444.24C206.56,-429.67 199.8,-413.31 193.5,-398.07\"/>\n<polygon fill=\"black\" stroke=\"black\" points=\"196.86,-397.04 189.81,-389.14 190.39,-399.72 196.86,-397.04\"/>\n<text text-anchor=\"middle\" x=\"206.41\" y=\"-412.3\" font-family=\"Times New Roman,serif\" font-size=\"14.00\">0</text>\n</g>\n<!-- 2 -->\n<g id=\"node7\" class=\"node\">\n<title>2</title>\n<ellipse fill=\"yellow\" stroke=\"black\" cx=\"290.91\" cy=\"-342.42\" rx=\"50.82\" ry=\"48.17\"/>\n<text text-anchor=\"middle\" x=\"290.91\" y=\"-361.22\" font-family=\"Times New Roman,serif\" font-size=\"14.00\">node id: 2</text>\n<text text-anchor=\"middle\" x=\"290.91\" y=\"-346.22\" font-family=\"Times New Roman,serif\" font-size=\"14.00\">attr_4 </text>\n<text text-anchor=\"middle\" x=\"290.91\" y=\"-331.22\" font-family=\"Times New Roman,serif\" font-size=\"14.00\">cl 0: 1</text>\n<text text-anchor=\"middle\" x=\"290.91\" y=\"-316.22\" font-family=\"Times New Roman,serif\" font-size=\"14.00\">cl 1: 4</text>\n</g>\n<!-- 0&#45;&gt;2 -->\n<g id=\"edge8\" class=\"edge\">\n<title>0&#45;&gt;2</title>\n<path fill=\"none\" stroke=\"black\" d=\"M249.24,-444.24C255.26,-429.67 262.02,-413.31 268.32,-398.07\"/>\n<polygon fill=\"black\" stroke=\"black\" points=\"271.43,-399.72 272.01,-389.14 264.96,-397.04 271.43,-399.72\"/>\n<text text-anchor=\"middle\" x=\"266.41\" y=\"-412.3\" font-family=\"Times New Roman,serif\" font-size=\"14.00\">1</text>\n</g>\n<!-- 3 -->\n<g id=\"node3\" class=\"node\">\n<title>3</title>\n<ellipse fill=\"green\" stroke=\"black\" cx=\"50.91\" cy=\"-195.25\" rx=\"50.82\" ry=\"48.17\"/>\n<text text-anchor=\"middle\" x=\"50.91\" y=\"-214.05\" font-family=\"Times New Roman,serif\" font-size=\"14.00\">node id: 3</text>\n<text text-anchor=\"middle\" x=\"50.91\" y=\"-199.05\" font-family=\"Times New Roman,serif\" font-size=\"14.00\">cl = 0 </text>\n<text text-anchor=\"middle\" x=\"50.91\" y=\"-184.05\" font-family=\"Times New Roman,serif\" font-size=\"14.00\">cl 0: 2</text>\n<text text-anchor=\"middle\" x=\"50.91\" y=\"-169.05\" font-family=\"Times New Roman,serif\" font-size=\"14.00\">cl 1: 0</text>\n</g>\n<!-- 1&#45;&gt;3 -->\n<g id=\"edge3\" class=\"edge\">\n<title>1&#45;&gt;3</title>\n<path fill=\"none\" stroke=\"black\" d=\"M140.01,-304.03C124.53,-285.31 105.65,-262.46 89.25,-242.63\"/>\n<polygon fill=\"black\" stroke=\"black\" points=\"91.95,-240.4 82.88,-234.93 86.56,-244.86 91.95,-240.4\"/>\n<text text-anchor=\"middle\" x=\"118.41\" y=\"-265.13\" font-family=\"Times New Roman,serif\" font-size=\"14.00\">0</text>\n</g>\n<!-- 4 -->\n<g id=\"node4\" class=\"node\">\n<title>4</title>\n<ellipse fill=\"yellow\" stroke=\"black\" cx=\"170.91\" cy=\"-195.25\" rx=\"50.82\" ry=\"48.17\"/>\n<text text-anchor=\"middle\" x=\"170.91\" y=\"-214.05\" font-family=\"Times New Roman,serif\" font-size=\"14.00\">node id: 4</text>\n<text text-anchor=\"middle\" x=\"170.91\" y=\"-199.05\" font-family=\"Times New Roman,serif\" font-size=\"14.00\">attr_2 </text>\n<text text-anchor=\"middle\" x=\"170.91\" y=\"-184.05\" font-family=\"Times New Roman,serif\" font-size=\"14.00\">cl 0: 1</text>\n<text text-anchor=\"middle\" x=\"170.91\" y=\"-169.05\" font-family=\"Times New Roman,serif\" font-size=\"14.00\">cl 1: 2</text>\n</g>\n<!-- 1&#45;&gt;4 -->\n<g id=\"edge4\" class=\"edge\">\n<title>1&#45;&gt;4</title>\n<path fill=\"none\" stroke=\"black\" d=\"M170.91,-293.88C170.91,-281.48 170.91,-267.96 170.91,-255.04\"/>\n<polygon fill=\"black\" stroke=\"black\" points=\"174.41,-255.4 170.91,-245.4 167.41,-255.4 174.41,-255.4\"/>\n<text text-anchor=\"middle\" x=\"174.41\" y=\"-265.13\" font-family=\"Times New Roman,serif\" font-size=\"14.00\">1</text>\n</g>\n<!-- 7 -->\n<g id=\"node5\" class=\"node\">\n<title>7</title>\n<ellipse fill=\"green\" stroke=\"black\" cx=\"110.91\" cy=\"-48.08\" rx=\"50.82\" ry=\"48.17\"/>\n<text text-anchor=\"middle\" x=\"110.91\" y=\"-66.88\" font-family=\"Times New Roman,serif\" font-size=\"14.00\">node id: 7</text>\n<text text-anchor=\"middle\" x=\"110.91\" y=\"-51.88\" font-family=\"Times New Roman,serif\" font-size=\"14.00\">cl = 0 </text>\n<text text-anchor=\"middle\" x=\"110.91\" y=\"-36.88\" font-family=\"Times New Roman,serif\" font-size=\"14.00\">cl 0: 1</text>\n<text text-anchor=\"middle\" x=\"110.91\" y=\"-21.88\" font-family=\"Times New Roman,serif\" font-size=\"14.00\">cl 1: 1</text>\n</g>\n<!-- 4&#45;&gt;7 -->\n<g id=\"edge1\" class=\"edge\">\n<title>4&#45;&gt;7</title>\n<path fill=\"none\" stroke=\"black\" d=\"M152.58,-149.91C146.56,-135.34 139.8,-118.98 133.5,-103.74\"/>\n<polygon fill=\"black\" stroke=\"black\" points=\"136.86,-102.71 129.81,-94.8 130.39,-105.38 136.86,-102.71\"/>\n<text text-anchor=\"middle\" x=\"146.41\" y=\"-117.97\" font-family=\"Times New Roman,serif\" font-size=\"14.00\">0</text>\n</g>\n<!-- 8 -->\n<g id=\"node6\" class=\"node\">\n<title>8</title>\n<ellipse fill=\"red\" stroke=\"black\" cx=\"230.91\" cy=\"-48.08\" rx=\"50.82\" ry=\"48.17\"/>\n<text text-anchor=\"middle\" x=\"230.91\" y=\"-66.88\" font-family=\"Times New Roman,serif\" font-size=\"14.00\">node id: 8</text>\n<text text-anchor=\"middle\" x=\"230.91\" y=\"-51.88\" font-family=\"Times New Roman,serif\" font-size=\"14.00\">cl = 1 </text>\n<text text-anchor=\"middle\" x=\"230.91\" y=\"-36.88\" font-family=\"Times New Roman,serif\" font-size=\"14.00\">cl 0: 0</text>\n<text text-anchor=\"middle\" x=\"230.91\" y=\"-21.88\" font-family=\"Times New Roman,serif\" font-size=\"14.00\">cl 1: 1</text>\n</g>\n<!-- 4&#45;&gt;8 -->\n<g id=\"edge2\" class=\"edge\">\n<title>4&#45;&gt;8</title>\n<path fill=\"none\" stroke=\"black\" d=\"M189.24,-149.91C195.26,-135.34 202.02,-118.98 208.32,-103.74\"/>\n<polygon fill=\"black\" stroke=\"black\" points=\"211.43,-105.38 212.01,-94.8 204.96,-102.71 211.43,-105.38\"/>\n<text text-anchor=\"middle\" x=\"206.41\" y=\"-117.97\" font-family=\"Times New Roman,serif\" font-size=\"14.00\">1</text>\n</g>\n<!-- 5 -->\n<g id=\"node8\" class=\"node\">\n<title>5</title>\n<ellipse fill=\"green\" stroke=\"black\" cx=\"290.91\" cy=\"-195.25\" rx=\"50.82\" ry=\"48.17\"/>\n<text text-anchor=\"middle\" x=\"290.91\" y=\"-214.05\" font-family=\"Times New Roman,serif\" font-size=\"14.00\">node id: 5</text>\n<text text-anchor=\"middle\" x=\"290.91\" y=\"-199.05\" font-family=\"Times New Roman,serif\" font-size=\"14.00\">cl = 0 </text>\n<text text-anchor=\"middle\" x=\"290.91\" y=\"-184.05\" font-family=\"Times New Roman,serif\" font-size=\"14.00\">cl 0: 1</text>\n<text text-anchor=\"middle\" x=\"290.91\" y=\"-169.05\" font-family=\"Times New Roman,serif\" font-size=\"14.00\">cl 1: 0</text>\n</g>\n<!-- 2&#45;&gt;5 -->\n<g id=\"edge5\" class=\"edge\">\n<title>2&#45;&gt;5</title>\n<path fill=\"none\" stroke=\"black\" d=\"M290.91,-293.88C290.91,-281.48 290.91,-267.96 290.91,-255.04\"/>\n<polygon fill=\"black\" stroke=\"black\" points=\"294.41,-255.4 290.91,-245.4 287.41,-255.4 294.41,-255.4\"/>\n<text text-anchor=\"middle\" x=\"294.41\" y=\"-265.13\" font-family=\"Times New Roman,serif\" font-size=\"14.00\">0</text>\n</g>\n<!-- 6 -->\n<g id=\"node9\" class=\"node\">\n<title>6</title>\n<ellipse fill=\"red\" stroke=\"black\" cx=\"410.91\" cy=\"-195.25\" rx=\"50.82\" ry=\"48.17\"/>\n<text text-anchor=\"middle\" x=\"410.91\" y=\"-214.05\" font-family=\"Times New Roman,serif\" font-size=\"14.00\">node id: 6</text>\n<text text-anchor=\"middle\" x=\"410.91\" y=\"-199.05\" font-family=\"Times New Roman,serif\" font-size=\"14.00\">cl = 1 </text>\n<text text-anchor=\"middle\" x=\"410.91\" y=\"-184.05\" font-family=\"Times New Roman,serif\" font-size=\"14.00\">cl 0: 0</text>\n<text text-anchor=\"middle\" x=\"410.91\" y=\"-169.05\" font-family=\"Times New Roman,serif\" font-size=\"14.00\">cl 1: 4</text>\n</g>\n<!-- 2&#45;&gt;6 -->\n<g id=\"edge6\" class=\"edge\">\n<title>2&#45;&gt;6</title>\n<path fill=\"none\" stroke=\"black\" d=\"M321.81,-304.03C337.29,-285.31 356.18,-262.46 372.57,-242.63\"/>\n<polygon fill=\"black\" stroke=\"black\" points=\"375.27,-244.86 378.94,-234.93 369.87,-240.4 375.27,-244.86\"/>\n<text text-anchor=\"middle\" x=\"358.41\" y=\"-265.13\" font-family=\"Times New Roman,serif\" font-size=\"14.00\">1</text>\n</g>\n</g>\n</svg>\n",
      "text/plain": "<graphviz.graphs.Digraph at 0x1e76ba988e0>"
     },
     "metadata": {},
     "output_type": "display_data"
    }
   ],
   "source": [
    "cm.print_graph(root, data)"
   ],
   "metadata": {
    "collapsed": false
   }
  },
  {
   "cell_type": "code",
   "execution_count": 26,
   "outputs": [
    {
     "data": {
      "text/plain": "0.09999999999999998"
     },
     "execution_count": 26,
     "metadata": {},
     "output_type": "execute_result"
    }
   ],
   "source": [
    "cm.get_error_rate(root, data)"
   ],
   "metadata": {
    "collapsed": false
   }
  },
  {
   "cell_type": "markdown",
   "metadata": {},
   "source": [
    "2.16) What happened with the error rate? Is it necessary to keep these two newly added leaves?\n",
    "\n",
    "Yes, it was decreased by half."
   ]
  },
  {
   "cell_type": "markdown",
   "metadata": {},
   "source": [
    "2.17) Finish creating the right side of the tree\n",
    "\n",
    "There's no need to split the right node children since all of the IGs are equal to 0"
   ]
  },
  {
   "cell_type": "markdown",
   "metadata": {},
   "source": [
    "# Part 3: automated construction of decision trees"
   ]
  },
  {
   "cell_type": "markdown",
   "metadata": {},
   "source": [
    "3.1 Complete the following function for automated construct of decision trees, so that it returns a decision tree for the given data and attribute list. Note that this is a recusive method, i.e., calls itself.\n",
    "\n",
    "3.2) Build a decision tree for a training dataset in the common.py auxiliary file, for diffrent values of max_depth.  Calculate & compare the error rates for training and validation datasets."
   ]
  },
  {
   "cell_type": "code",
   "execution_count": 27,
   "metadata": {},
   "outputs": [],
   "source": [
    "max_depth = 10"
   ]
  },
  {
   "cell_type": "code",
   "execution_count": 28,
   "metadata": {},
   "outputs": [
    {
     "data": {
      "text/plain": "    attr_1  attr_2  attr_3  attr_4  attr_5  attr_6  cl\n0        0       0       1       1       0       1   0\n1        1       1       1       1       0       1   0\n2        0       1       1       0       1       0   1\n3        1       1       0       0       0       0   1\n4        0       1       1       1       0       1   1\n5        1       1       0       1       1       1   0\n6        1       1       1       1       1       1   0\n7        0       1       0       0       0       0   1\n8        1       0       1       0       1       1   1\n9        1       1       1       0       0       0   0\n10       0       0       1       1       0       0   0\n11       0       0       1       1       0       1   1\n12       1       1       1       0       1       1   0\n13       1       1       0       1       1       1   1\n14       0       1       0       0       0       0   0\n15       1       1       0       1       1       0   0\n16       0       1       1       0       1       1   0\n17       1       0       1       0       1       1   1\n18       1       1       0       0       0       0   0\n19       0       1       0       1       0       1   0",
      "text/html": "<div>\n<style scoped>\n    .dataframe tbody tr th:only-of-type {\n        vertical-align: middle;\n    }\n\n    .dataframe tbody tr th {\n        vertical-align: top;\n    }\n\n    .dataframe thead th {\n        text-align: right;\n    }\n</style>\n<table border=\"1\" class=\"dataframe\">\n  <thead>\n    <tr style=\"text-align: right;\">\n      <th></th>\n      <th>attr_1</th>\n      <th>attr_2</th>\n      <th>attr_3</th>\n      <th>attr_4</th>\n      <th>attr_5</th>\n      <th>attr_6</th>\n      <th>cl</th>\n    </tr>\n  </thead>\n  <tbody>\n    <tr>\n      <th>0</th>\n      <td>0</td>\n      <td>0</td>\n      <td>1</td>\n      <td>1</td>\n      <td>0</td>\n      <td>1</td>\n      <td>0</td>\n    </tr>\n    <tr>\n      <th>1</th>\n      <td>1</td>\n      <td>1</td>\n      <td>1</td>\n      <td>1</td>\n      <td>0</td>\n      <td>1</td>\n      <td>0</td>\n    </tr>\n    <tr>\n      <th>2</th>\n      <td>0</td>\n      <td>1</td>\n      <td>1</td>\n      <td>0</td>\n      <td>1</td>\n      <td>0</td>\n      <td>1</td>\n    </tr>\n    <tr>\n      <th>3</th>\n      <td>1</td>\n      <td>1</td>\n      <td>0</td>\n      <td>0</td>\n      <td>0</td>\n      <td>0</td>\n      <td>1</td>\n    </tr>\n    <tr>\n      <th>4</th>\n      <td>0</td>\n      <td>1</td>\n      <td>1</td>\n      <td>1</td>\n      <td>0</td>\n      <td>1</td>\n      <td>1</td>\n    </tr>\n    <tr>\n      <th>5</th>\n      <td>1</td>\n      <td>1</td>\n      <td>0</td>\n      <td>1</td>\n      <td>1</td>\n      <td>1</td>\n      <td>0</td>\n    </tr>\n    <tr>\n      <th>6</th>\n      <td>1</td>\n      <td>1</td>\n      <td>1</td>\n      <td>1</td>\n      <td>1</td>\n      <td>1</td>\n      <td>0</td>\n    </tr>\n    <tr>\n      <th>7</th>\n      <td>0</td>\n      <td>1</td>\n      <td>0</td>\n      <td>0</td>\n      <td>0</td>\n      <td>0</td>\n      <td>1</td>\n    </tr>\n    <tr>\n      <th>8</th>\n      <td>1</td>\n      <td>0</td>\n      <td>1</td>\n      <td>0</td>\n      <td>1</td>\n      <td>1</td>\n      <td>1</td>\n    </tr>\n    <tr>\n      <th>9</th>\n      <td>1</td>\n      <td>1</td>\n      <td>1</td>\n      <td>0</td>\n      <td>0</td>\n      <td>0</td>\n      <td>0</td>\n    </tr>\n    <tr>\n      <th>10</th>\n      <td>0</td>\n      <td>0</td>\n      <td>1</td>\n      <td>1</td>\n      <td>0</td>\n      <td>0</td>\n      <td>0</td>\n    </tr>\n    <tr>\n      <th>11</th>\n      <td>0</td>\n      <td>0</td>\n      <td>1</td>\n      <td>1</td>\n      <td>0</td>\n      <td>1</td>\n      <td>1</td>\n    </tr>\n    <tr>\n      <th>12</th>\n      <td>1</td>\n      <td>1</td>\n      <td>1</td>\n      <td>0</td>\n      <td>1</td>\n      <td>1</td>\n      <td>0</td>\n    </tr>\n    <tr>\n      <th>13</th>\n      <td>1</td>\n      <td>1</td>\n      <td>0</td>\n      <td>1</td>\n      <td>1</td>\n      <td>1</td>\n      <td>1</td>\n    </tr>\n    <tr>\n      <th>14</th>\n      <td>0</td>\n      <td>1</td>\n      <td>0</td>\n      <td>0</td>\n      <td>0</td>\n      <td>0</td>\n      <td>0</td>\n    </tr>\n    <tr>\n      <th>15</th>\n      <td>1</td>\n      <td>1</td>\n      <td>0</td>\n      <td>1</td>\n      <td>1</td>\n      <td>0</td>\n      <td>0</td>\n    </tr>\n    <tr>\n      <th>16</th>\n      <td>0</td>\n      <td>1</td>\n      <td>1</td>\n      <td>0</td>\n      <td>1</td>\n      <td>1</td>\n      <td>0</td>\n    </tr>\n    <tr>\n      <th>17</th>\n      <td>1</td>\n      <td>0</td>\n      <td>1</td>\n      <td>0</td>\n      <td>1</td>\n      <td>1</td>\n      <td>1</td>\n    </tr>\n    <tr>\n      <th>18</th>\n      <td>1</td>\n      <td>1</td>\n      <td>0</td>\n      <td>0</td>\n      <td>0</td>\n      <td>0</td>\n      <td>0</td>\n    </tr>\n    <tr>\n      <th>19</th>\n      <td>0</td>\n      <td>1</td>\n      <td>0</td>\n      <td>1</td>\n      <td>0</td>\n      <td>1</td>\n      <td>0</td>\n    </tr>\n  </tbody>\n</table>\n</div>"
     },
     "execution_count": 28,
     "metadata": {},
     "output_type": "execute_result"
    }
   ],
   "source": [
    "train_attributeNames, train_data = cm.get_training_data_set()\n",
    "valid_attributesName, valid_data = cm.get_validation_data_set()\n",
    "train_data"
   ]
  },
  {
   "cell_type": "code",
   "execution_count": 29,
   "outputs": [
    {
     "data": {
      "image/svg+xml": "<?xml version=\"1.0\" encoding=\"UTF-8\" standalone=\"no\"?>\n<!DOCTYPE svg PUBLIC \"-//W3C//DTD SVG 1.1//EN\"\n \"http://www.w3.org/Graphics/SVG/1.1/DTD/svg11.dtd\">\n<!-- Generated by graphviz version 7.0.5 (20221223.1930)\n -->\n<!-- Pages: 1 -->\n<svg width=\"720pt\" height=\"646pt\"\n viewBox=\"0.00 0.00 720.00 645.62\" xmlns=\"http://www.w3.org/2000/svg\" xmlns:xlink=\"http://www.w3.org/1999/xlink\">\n<g id=\"graph0\" class=\"graph\" transform=\"scale(0.768596 0.768596) rotate(0) translate(4 836)\">\n<polygon fill=\"white\" stroke=\"none\" points=\"-4,4 -4,-836 932.77,-836 932.77,4 -4,4\"/>\n<!-- 0 -->\n<g id=\"node1\" class=\"node\">\n<title>0</title>\n<ellipse fill=\"yellow\" stroke=\"black\" cx=\"353.91\" cy=\"-783.92\" rx=\"50.82\" ry=\"48.17\"/>\n<text text-anchor=\"middle\" x=\"353.91\" y=\"-802.72\" font-family=\"Times New Roman,serif\" font-size=\"14.00\">node id: 0</text>\n<text text-anchor=\"middle\" x=\"353.91\" y=\"-787.72\" font-family=\"Times New Roman,serif\" font-size=\"14.00\">attr_2 </text>\n<text text-anchor=\"middle\" x=\"353.91\" y=\"-772.72\" font-family=\"Times New Roman,serif\" font-size=\"14.00\">cl 0: 12</text>\n<text text-anchor=\"middle\" x=\"353.91\" y=\"-757.72\" font-family=\"Times New Roman,serif\" font-size=\"14.00\">cl 1: 8</text>\n</g>\n<!-- 1 -->\n<g id=\"node2\" class=\"node\">\n<title>1</title>\n<ellipse fill=\"yellow\" stroke=\"black\" cx=\"293.91\" cy=\"-636.75\" rx=\"50.82\" ry=\"48.17\"/>\n<text text-anchor=\"middle\" x=\"293.91\" y=\"-655.55\" font-family=\"Times New Roman,serif\" font-size=\"14.00\">node id: 1</text>\n<text text-anchor=\"middle\" x=\"293.91\" y=\"-640.55\" font-family=\"Times New Roman,serif\" font-size=\"14.00\">attr_1 </text>\n<text text-anchor=\"middle\" x=\"293.91\" y=\"-625.55\" font-family=\"Times New Roman,serif\" font-size=\"14.00\">cl 0: 2</text>\n<text text-anchor=\"middle\" x=\"293.91\" y=\"-610.55\" font-family=\"Times New Roman,serif\" font-size=\"14.00\">cl 1: 3</text>\n</g>\n<!-- 0&#45;&gt;1 -->\n<g id=\"edge21\" class=\"edge\">\n<title>0&#45;&gt;1</title>\n<path fill=\"none\" stroke=\"black\" d=\"M335.58,-738.57C329.56,-724.01 322.8,-707.64 316.5,-692.41\"/>\n<polygon fill=\"black\" stroke=\"black\" points=\"319.86,-691.37 312.81,-683.47 313.39,-694.05 319.86,-691.37\"/>\n<text text-anchor=\"middle\" x=\"329.41\" y=\"-706.63\" font-family=\"Times New Roman,serif\" font-size=\"14.00\">0</text>\n</g>\n<!-- 2 -->\n<g id=\"node7\" class=\"node\">\n<title>2</title>\n<ellipse fill=\"yellow\" stroke=\"black\" cx=\"414.91\" cy=\"-636.75\" rx=\"50.82\" ry=\"48.17\"/>\n<text text-anchor=\"middle\" x=\"414.91\" y=\"-655.55\" font-family=\"Times New Roman,serif\" font-size=\"14.00\">node id: 2</text>\n<text text-anchor=\"middle\" x=\"414.91\" y=\"-640.55\" font-family=\"Times New Roman,serif\" font-size=\"14.00\">attr_1 </text>\n<text text-anchor=\"middle\" x=\"414.91\" y=\"-625.55\" font-family=\"Times New Roman,serif\" font-size=\"14.00\">cl 0: 10</text>\n<text text-anchor=\"middle\" x=\"414.91\" y=\"-610.55\" font-family=\"Times New Roman,serif\" font-size=\"14.00\">cl 1: 5</text>\n</g>\n<!-- 0&#45;&gt;2 -->\n<g id=\"edge22\" class=\"edge\">\n<title>0&#45;&gt;2</title>\n<path fill=\"none\" stroke=\"black\" d=\"M372.55,-738.57C378.67,-724.01 385.54,-707.64 391.94,-692.41\"/>\n<polygon fill=\"black\" stroke=\"black\" points=\"395.05,-694.04 395.7,-683.47 388.6,-691.33 395.05,-694.04\"/>\n<text text-anchor=\"middle\" x=\"390.41\" y=\"-706.63\" font-family=\"Times New Roman,serif\" font-size=\"14.00\">1</text>\n</g>\n<!-- 3 -->\n<g id=\"node3\" class=\"node\">\n<title>3</title>\n<ellipse fill=\"yellow\" stroke=\"black\" cx=\"170.91\" cy=\"-489.58\" rx=\"50.82\" ry=\"48.17\"/>\n<text text-anchor=\"middle\" x=\"170.91\" y=\"-508.38\" font-family=\"Times New Roman,serif\" font-size=\"14.00\">node id: 3</text>\n<text text-anchor=\"middle\" x=\"170.91\" y=\"-493.38\" font-family=\"Times New Roman,serif\" font-size=\"14.00\">attr_6 </text>\n<text text-anchor=\"middle\" x=\"170.91\" y=\"-478.38\" font-family=\"Times New Roman,serif\" font-size=\"14.00\">cl 0: 2</text>\n<text text-anchor=\"middle\" x=\"170.91\" y=\"-463.38\" font-family=\"Times New Roman,serif\" font-size=\"14.00\">cl 1: 1</text>\n</g>\n<!-- 1&#45;&gt;3 -->\n<g id=\"edge3\" class=\"edge\">\n<title>1&#45;&gt;3</title>\n<path fill=\"none\" stroke=\"black\" d=\"M262.56,-598.74C246.5,-579.79 226.8,-556.54 209.78,-536.46\"/>\n<polygon fill=\"black\" stroke=\"black\" points=\"212.54,-534.3 203.4,-528.93 207.2,-538.82 212.54,-534.3\"/>\n<text text-anchor=\"middle\" x=\"240.41\" y=\"-559.47\" font-family=\"Times New Roman,serif\" font-size=\"14.00\">0</text>\n</g>\n<!-- 4 -->\n<g id=\"node6\" class=\"node\">\n<title>4</title>\n<ellipse fill=\"red\" stroke=\"black\" cx=\"293.91\" cy=\"-489.58\" rx=\"50.82\" ry=\"48.17\"/>\n<text text-anchor=\"middle\" x=\"293.91\" y=\"-508.38\" font-family=\"Times New Roman,serif\" font-size=\"14.00\">node id: 4</text>\n<text text-anchor=\"middle\" x=\"293.91\" y=\"-493.38\" font-family=\"Times New Roman,serif\" font-size=\"14.00\">cl = 1 </text>\n<text text-anchor=\"middle\" x=\"293.91\" y=\"-478.38\" font-family=\"Times New Roman,serif\" font-size=\"14.00\">cl 0: 0</text>\n<text text-anchor=\"middle\" x=\"293.91\" y=\"-463.38\" font-family=\"Times New Roman,serif\" font-size=\"14.00\">cl 1: 2</text>\n</g>\n<!-- 1&#45;&gt;4 -->\n<g id=\"edge4\" class=\"edge\">\n<title>1&#45;&gt;4</title>\n<path fill=\"none\" stroke=\"black\" d=\"M293.91,-588.22C293.91,-575.81 293.91,-562.29 293.91,-549.37\"/>\n<polygon fill=\"black\" stroke=\"black\" points=\"297.41,-549.74 293.91,-539.74 290.41,-549.74 297.41,-549.74\"/>\n<text text-anchor=\"middle\" x=\"297.41\" y=\"-559.47\" font-family=\"Times New Roman,serif\" font-size=\"14.00\">1</text>\n</g>\n<!-- 7 -->\n<g id=\"node4\" class=\"node\">\n<title>7</title>\n<ellipse fill=\"green\" stroke=\"black\" cx=\"50.91\" cy=\"-342.42\" rx=\"50.82\" ry=\"48.17\"/>\n<text text-anchor=\"middle\" x=\"50.91\" y=\"-361.22\" font-family=\"Times New Roman,serif\" font-size=\"14.00\">node id: 7</text>\n<text text-anchor=\"middle\" x=\"50.91\" y=\"-346.22\" font-family=\"Times New Roman,serif\" font-size=\"14.00\">cl = 0 </text>\n<text text-anchor=\"middle\" x=\"50.91\" y=\"-331.22\" font-family=\"Times New Roman,serif\" font-size=\"14.00\">cl 0: 1</text>\n<text text-anchor=\"middle\" x=\"50.91\" y=\"-316.22\" font-family=\"Times New Roman,serif\" font-size=\"14.00\">cl 1: 0</text>\n</g>\n<!-- 3&#45;&gt;7 -->\n<g id=\"edge1\" class=\"edge\">\n<title>3&#45;&gt;7</title>\n<path fill=\"none\" stroke=\"black\" d=\"M140.01,-451.2C124.53,-432.48 105.65,-409.63 89.25,-389.8\"/>\n<polygon fill=\"black\" stroke=\"black\" points=\"91.95,-387.57 82.88,-382.09 86.56,-392.03 91.95,-387.57\"/>\n<text text-anchor=\"middle\" x=\"118.41\" y=\"-412.3\" font-family=\"Times New Roman,serif\" font-size=\"14.00\">0</text>\n</g>\n<!-- 8 -->\n<g id=\"node5\" class=\"node\">\n<title>8</title>\n<ellipse fill=\"green\" stroke=\"black\" cx=\"170.91\" cy=\"-342.42\" rx=\"50.82\" ry=\"48.17\"/>\n<text text-anchor=\"middle\" x=\"170.91\" y=\"-361.22\" font-family=\"Times New Roman,serif\" font-size=\"14.00\">node id: 8</text>\n<text text-anchor=\"middle\" x=\"170.91\" y=\"-346.22\" font-family=\"Times New Roman,serif\" font-size=\"14.00\">cl = 0 </text>\n<text text-anchor=\"middle\" x=\"170.91\" y=\"-331.22\" font-family=\"Times New Roman,serif\" font-size=\"14.00\">cl 0: 1</text>\n<text text-anchor=\"middle\" x=\"170.91\" y=\"-316.22\" font-family=\"Times New Roman,serif\" font-size=\"14.00\">cl 1: 1</text>\n</g>\n<!-- 3&#45;&gt;8 -->\n<g id=\"edge2\" class=\"edge\">\n<title>3&#45;&gt;8</title>\n<path fill=\"none\" stroke=\"black\" d=\"M170.91,-441.05C170.91,-428.64 170.91,-415.12 170.91,-402.21\"/>\n<polygon fill=\"black\" stroke=\"black\" points=\"174.41,-402.57 170.91,-392.57 167.41,-402.57 174.41,-402.57\"/>\n<text text-anchor=\"middle\" x=\"174.41\" y=\"-412.3\" font-family=\"Times New Roman,serif\" font-size=\"14.00\">1</text>\n</g>\n<!-- 5 -->\n<g id=\"node8\" class=\"node\">\n<title>5</title>\n<ellipse fill=\"yellow\" stroke=\"black\" cx=\"414.91\" cy=\"-489.58\" rx=\"50.82\" ry=\"48.17\"/>\n<text text-anchor=\"middle\" x=\"414.91\" y=\"-508.38\" font-family=\"Times New Roman,serif\" font-size=\"14.00\">node id: 5</text>\n<text text-anchor=\"middle\" x=\"414.91\" y=\"-493.38\" font-family=\"Times New Roman,serif\" font-size=\"14.00\">attr_3 </text>\n<text text-anchor=\"middle\" x=\"414.91\" y=\"-478.38\" font-family=\"Times New Roman,serif\" font-size=\"14.00\">cl 0: 3</text>\n<text text-anchor=\"middle\" x=\"414.91\" y=\"-463.38\" font-family=\"Times New Roman,serif\" font-size=\"14.00\">cl 1: 3</text>\n</g>\n<!-- 2&#45;&gt;5 -->\n<g id=\"edge19\" class=\"edge\">\n<title>2&#45;&gt;5</title>\n<path fill=\"none\" stroke=\"black\" d=\"M414.91,-588.22C414.91,-575.81 414.91,-562.29 414.91,-549.37\"/>\n<polygon fill=\"black\" stroke=\"black\" points=\"418.41,-549.74 414.91,-539.74 411.41,-549.74 418.41,-549.74\"/>\n<text text-anchor=\"middle\" x=\"418.41\" y=\"-559.47\" font-family=\"Times New Roman,serif\" font-size=\"14.00\">0</text>\n</g>\n<!-- 6 -->\n<g id=\"node17\" class=\"node\">\n<title>6</title>\n<ellipse fill=\"yellow\" stroke=\"black\" cx=\"677.91\" cy=\"-489.58\" rx=\"50.82\" ry=\"48.17\"/>\n<text text-anchor=\"middle\" x=\"677.91\" y=\"-508.38\" font-family=\"Times New Roman,serif\" font-size=\"14.00\">node id: 6</text>\n<text text-anchor=\"middle\" x=\"677.91\" y=\"-493.38\" font-family=\"Times New Roman,serif\" font-size=\"14.00\">attr_3 </text>\n<text text-anchor=\"middle\" x=\"677.91\" y=\"-478.38\" font-family=\"Times New Roman,serif\" font-size=\"14.00\">cl 0: 7</text>\n<text text-anchor=\"middle\" x=\"677.91\" y=\"-463.38\" font-family=\"Times New Roman,serif\" font-size=\"14.00\">cl 1: 2</text>\n</g>\n<!-- 2&#45;&gt;6 -->\n<g id=\"edge20\" class=\"edge\">\n<title>2&#45;&gt;6</title>\n<path fill=\"none\" stroke=\"black\" d=\"M458.64,-611.62C504.05,-586.55 575.16,-547.3 624.01,-520.33\"/>\n<polygon fill=\"black\" stroke=\"black\" points=\"625.69,-523.4 632.76,-515.51 622.31,-517.27 625.69,-523.4\"/>\n<text text-anchor=\"middle\" x=\"558.41\" y=\"-559.47\" font-family=\"Times New Roman,serif\" font-size=\"14.00\">1</text>\n</g>\n<!-- 9 -->\n<g id=\"node9\" class=\"node\">\n<title>9</title>\n<ellipse fill=\"yellow\" stroke=\"black\" cx=\"290.91\" cy=\"-342.42\" rx=\"50.82\" ry=\"48.17\"/>\n<text text-anchor=\"middle\" x=\"290.91\" y=\"-361.22\" font-family=\"Times New Roman,serif\" font-size=\"14.00\">node id: 9</text>\n<text text-anchor=\"middle\" x=\"290.91\" y=\"-346.22\" font-family=\"Times New Roman,serif\" font-size=\"14.00\">attr_4 </text>\n<text text-anchor=\"middle\" x=\"290.91\" y=\"-331.22\" font-family=\"Times New Roman,serif\" font-size=\"14.00\">cl 0: 2</text>\n<text text-anchor=\"middle\" x=\"290.91\" y=\"-316.22\" font-family=\"Times New Roman,serif\" font-size=\"14.00\">cl 1: 1</text>\n</g>\n<!-- 5&#45;&gt;9 -->\n<g id=\"edge11\" class=\"edge\">\n<title>5&#45;&gt;9</title>\n<path fill=\"none\" stroke=\"black\" d=\"M383.3,-451.58C367.11,-432.62 347.25,-409.37 330.1,-389.29\"/>\n<polygon fill=\"black\" stroke=\"black\" points=\"332.82,-387.09 323.66,-381.76 327.5,-391.64 332.82,-387.09\"/>\n<text text-anchor=\"middle\" x=\"360.41\" y=\"-412.3\" font-family=\"Times New Roman,serif\" font-size=\"14.00\">0</text>\n</g>\n<!-- 10 -->\n<g id=\"node12\" class=\"node\">\n<title>10</title>\n<ellipse fill=\"yellow\" stroke=\"black\" cx=\"417.91\" cy=\"-342.42\" rx=\"55.72\" ry=\"48.17\"/>\n<text text-anchor=\"middle\" x=\"417.91\" y=\"-361.22\" font-family=\"Times New Roman,serif\" font-size=\"14.00\">node id: 10</text>\n<text text-anchor=\"middle\" x=\"417.91\" y=\"-346.22\" font-family=\"Times New Roman,serif\" font-size=\"14.00\">attr_4 </text>\n<text text-anchor=\"middle\" x=\"417.91\" y=\"-331.22\" font-family=\"Times New Roman,serif\" font-size=\"14.00\">cl 0: 1</text>\n<text text-anchor=\"middle\" x=\"417.91\" y=\"-316.22\" font-family=\"Times New Roman,serif\" font-size=\"14.00\">cl 1: 2</text>\n</g>\n<!-- 5&#45;&gt;10 -->\n<g id=\"edge12\" class=\"edge\">\n<title>5&#45;&gt;10</title>\n<path fill=\"none\" stroke=\"black\" d=\"M415.89,-441.05C416.15,-428.64 416.43,-415.12 416.7,-402.21\"/>\n<polygon fill=\"black\" stroke=\"black\" points=\"420.19,-402.64 416.9,-392.57 413.19,-402.49 420.19,-402.64\"/>\n<text text-anchor=\"middle\" x=\"420.41\" y=\"-412.3\" font-family=\"Times New Roman,serif\" font-size=\"14.00\">1</text>\n</g>\n<!-- 13 -->\n<g id=\"node10\" class=\"node\">\n<title>13</title>\n<ellipse fill=\"red\" stroke=\"black\" cx=\"157.91\" cy=\"-195.25\" rx=\"55.72\" ry=\"48.17\"/>\n<text text-anchor=\"middle\" x=\"157.91\" y=\"-214.05\" font-family=\"Times New Roman,serif\" font-size=\"14.00\">node id: 13</text>\n<text text-anchor=\"middle\" x=\"157.91\" y=\"-199.05\" font-family=\"Times New Roman,serif\" font-size=\"14.00\">cl = 1 </text>\n<text text-anchor=\"middle\" x=\"157.91\" y=\"-184.05\" font-family=\"Times New Roman,serif\" font-size=\"14.00\">cl 0: 1</text>\n<text text-anchor=\"middle\" x=\"157.91\" y=\"-169.05\" font-family=\"Times New Roman,serif\" font-size=\"14.00\">cl 1: 1</text>\n</g>\n<!-- 9&#45;&gt;13 -->\n<g id=\"edge5\" class=\"edge\">\n<title>9&#45;&gt;13</title>\n<path fill=\"none\" stroke=\"black\" d=\"M258.04,-305.53C240.46,-286.35 218.62,-262.52 199.84,-242.01\"/>\n<polygon fill=\"black\" stroke=\"black\" points=\"202.62,-239.87 193.29,-234.86 197.46,-244.6 202.62,-239.87\"/>\n<text text-anchor=\"middle\" x=\"232.41\" y=\"-265.13\" font-family=\"Times New Roman,serif\" font-size=\"14.00\">0</text>\n</g>\n<!-- 14 -->\n<g id=\"node11\" class=\"node\">\n<title>14</title>\n<ellipse fill=\"green\" stroke=\"black\" cx=\"287.91\" cy=\"-195.25\" rx=\"55.72\" ry=\"48.17\"/>\n<text text-anchor=\"middle\" x=\"287.91\" y=\"-214.05\" font-family=\"Times New Roman,serif\" font-size=\"14.00\">node id: 14</text>\n<text text-anchor=\"middle\" x=\"287.91\" y=\"-199.05\" font-family=\"Times New Roman,serif\" font-size=\"14.00\">cl = 0 </text>\n<text text-anchor=\"middle\" x=\"287.91\" y=\"-184.05\" font-family=\"Times New Roman,serif\" font-size=\"14.00\">cl 0: 1</text>\n<text text-anchor=\"middle\" x=\"287.91\" y=\"-169.05\" font-family=\"Times New Roman,serif\" font-size=\"14.00\">cl 1: 0</text>\n</g>\n<!-- 9&#45;&gt;14 -->\n<g id=\"edge6\" class=\"edge\">\n<title>9&#45;&gt;14</title>\n<path fill=\"none\" stroke=\"black\" d=\"M289.93,-293.88C289.67,-281.48 289.39,-267.96 289.13,-255.04\"/>\n<polygon fill=\"black\" stroke=\"black\" points=\"292.63,-255.33 288.93,-245.4 285.63,-255.47 292.63,-255.33\"/>\n<text text-anchor=\"middle\" x=\"293.41\" y=\"-265.13\" font-family=\"Times New Roman,serif\" font-size=\"14.00\">1</text>\n</g>\n<!-- 15 -->\n<g id=\"node13\" class=\"node\">\n<title>15</title>\n<ellipse fill=\"yellow\" stroke=\"black\" cx=\"417.91\" cy=\"-195.25\" rx=\"55.72\" ry=\"48.17\"/>\n<text text-anchor=\"middle\" x=\"417.91\" y=\"-214.05\" font-family=\"Times New Roman,serif\" font-size=\"14.00\">node id: 15</text>\n<text text-anchor=\"middle\" x=\"417.91\" y=\"-199.05\" font-family=\"Times New Roman,serif\" font-size=\"14.00\">attr_6 </text>\n<text text-anchor=\"middle\" x=\"417.91\" y=\"-184.05\" font-family=\"Times New Roman,serif\" font-size=\"14.00\">cl 0: 1</text>\n<text text-anchor=\"middle\" x=\"417.91\" y=\"-169.05\" font-family=\"Times New Roman,serif\" font-size=\"14.00\">cl 1: 1</text>\n</g>\n<!-- 10&#45;&gt;15 -->\n<g id=\"edge9\" class=\"edge\">\n<title>10&#45;&gt;15</title>\n<path fill=\"none\" stroke=\"black\" d=\"M417.91,-293.88C417.91,-281.48 417.91,-267.96 417.91,-255.04\"/>\n<polygon fill=\"black\" stroke=\"black\" points=\"421.41,-255.4 417.91,-245.4 414.41,-255.4 421.41,-255.4\"/>\n<text text-anchor=\"middle\" x=\"421.41\" y=\"-265.13\" font-family=\"Times New Roman,serif\" font-size=\"14.00\">0</text>\n</g>\n<!-- 16 -->\n<g id=\"node16\" class=\"node\">\n<title>16</title>\n<ellipse fill=\"red\" stroke=\"black\" cx=\"547.91\" cy=\"-195.25\" rx=\"55.72\" ry=\"48.17\"/>\n<text text-anchor=\"middle\" x=\"547.91\" y=\"-214.05\" font-family=\"Times New Roman,serif\" font-size=\"14.00\">node id: 16</text>\n<text text-anchor=\"middle\" x=\"547.91\" y=\"-199.05\" font-family=\"Times New Roman,serif\" font-size=\"14.00\">cl = 1 </text>\n<text text-anchor=\"middle\" x=\"547.91\" y=\"-184.05\" font-family=\"Times New Roman,serif\" font-size=\"14.00\">cl 0: 0</text>\n<text text-anchor=\"middle\" x=\"547.91\" y=\"-169.05\" font-family=\"Times New Roman,serif\" font-size=\"14.00\">cl 1: 1</text>\n</g>\n<!-- 10&#45;&gt;16 -->\n<g id=\"edge10\" class=\"edge\">\n<title>10&#45;&gt;16</title>\n<path fill=\"none\" stroke=\"black\" d=\"M451.73,-303.65C468.44,-284.99 488.75,-262.31 506.4,-242.6\"/>\n<polygon fill=\"black\" stroke=\"black\" points=\"508.97,-244.99 513.03,-235.2 503.75,-240.32 508.97,-244.99\"/>\n<text text-anchor=\"middle\" x=\"490.41\" y=\"-265.13\" font-family=\"Times New Roman,serif\" font-size=\"14.00\">1</text>\n</g>\n<!-- 19 -->\n<g id=\"node14\" class=\"node\">\n<title>19</title>\n<ellipse fill=\"red\" stroke=\"black\" cx=\"352.91\" cy=\"-48.08\" rx=\"55.72\" ry=\"48.17\"/>\n<text text-anchor=\"middle\" x=\"352.91\" y=\"-66.88\" font-family=\"Times New Roman,serif\" font-size=\"14.00\">node id: 19</text>\n<text text-anchor=\"middle\" x=\"352.91\" y=\"-51.88\" font-family=\"Times New Roman,serif\" font-size=\"14.00\">cl = 1 </text>\n<text text-anchor=\"middle\" x=\"352.91\" y=\"-36.88\" font-family=\"Times New Roman,serif\" font-size=\"14.00\">cl 0: 0</text>\n<text text-anchor=\"middle\" x=\"352.91\" y=\"-21.88\" font-family=\"Times New Roman,serif\" font-size=\"14.00\">cl 1: 1</text>\n</g>\n<!-- 15&#45;&gt;19 -->\n<g id=\"edge7\" class=\"edge\">\n<title>15&#45;&gt;19</title>\n<path fill=\"none\" stroke=\"black\" d=\"M398.06,-149.91C391.53,-135.34 384.21,-118.98 377.38,-103.74\"/>\n<polygon fill=\"black\" stroke=\"black\" points=\"380.66,-102.48 373.38,-94.79 374.27,-105.34 380.66,-102.48\"/>\n<text text-anchor=\"middle\" x=\"391.41\" y=\"-117.97\" font-family=\"Times New Roman,serif\" font-size=\"14.00\">0</text>\n</g>\n<!-- 20 -->\n<g id=\"node15\" class=\"node\">\n<title>20</title>\n<ellipse fill=\"green\" stroke=\"black\" cx=\"482.91\" cy=\"-48.08\" rx=\"55.72\" ry=\"48.17\"/>\n<text text-anchor=\"middle\" x=\"482.91\" y=\"-66.88\" font-family=\"Times New Roman,serif\" font-size=\"14.00\">node id: 20</text>\n<text text-anchor=\"middle\" x=\"482.91\" y=\"-51.88\" font-family=\"Times New Roman,serif\" font-size=\"14.00\">cl = 0 </text>\n<text text-anchor=\"middle\" x=\"482.91\" y=\"-36.88\" font-family=\"Times New Roman,serif\" font-size=\"14.00\">cl 0: 1</text>\n<text text-anchor=\"middle\" x=\"482.91\" y=\"-21.88\" font-family=\"Times New Roman,serif\" font-size=\"14.00\">cl 1: 0</text>\n</g>\n<!-- 15&#45;&gt;20 -->\n<g id=\"edge8\" class=\"edge\">\n<title>15&#45;&gt;20</title>\n<path fill=\"none\" stroke=\"black\" d=\"M437.77,-149.91C444.29,-135.34 451.62,-118.98 458.44,-103.74\"/>\n<polygon fill=\"black\" stroke=\"black\" points=\"461.56,-105.34 462.45,-94.79 455.17,-102.48 461.56,-105.34\"/>\n<text text-anchor=\"middle\" x=\"456.41\" y=\"-117.97\" font-family=\"Times New Roman,serif\" font-size=\"14.00\">1</text>\n</g>\n<!-- 11 -->\n<g id=\"node18\" class=\"node\">\n<title>11</title>\n<ellipse fill=\"yellow\" stroke=\"black\" cx=\"677.91\" cy=\"-342.42\" rx=\"55.72\" ry=\"48.17\"/>\n<text text-anchor=\"middle\" x=\"677.91\" y=\"-361.22\" font-family=\"Times New Roman,serif\" font-size=\"14.00\">node id: 11</text>\n<text text-anchor=\"middle\" x=\"677.91\" y=\"-346.22\" font-family=\"Times New Roman,serif\" font-size=\"14.00\">attr_4 </text>\n<text text-anchor=\"middle\" x=\"677.91\" y=\"-331.22\" font-family=\"Times New Roman,serif\" font-size=\"14.00\">cl 0: 3</text>\n<text text-anchor=\"middle\" x=\"677.91\" y=\"-316.22\" font-family=\"Times New Roman,serif\" font-size=\"14.00\">cl 1: 2</text>\n</g>\n<!-- 6&#45;&gt;11 -->\n<g id=\"edge17\" class=\"edge\">\n<title>6&#45;&gt;11</title>\n<path fill=\"none\" stroke=\"black\" d=\"M677.91,-441.05C677.91,-428.64 677.91,-415.12 677.91,-402.21\"/>\n<polygon fill=\"black\" stroke=\"black\" points=\"681.41,-402.57 677.91,-392.57 674.41,-402.57 681.41,-402.57\"/>\n<text text-anchor=\"middle\" x=\"681.41\" y=\"-412.3\" font-family=\"Times New Roman,serif\" font-size=\"14.00\">0</text>\n</g>\n<!-- 12 -->\n<g id=\"node23\" class=\"node\">\n<title>12</title>\n<ellipse fill=\"green\" stroke=\"black\" cx=\"807.91\" cy=\"-342.42\" rx=\"55.72\" ry=\"48.17\"/>\n<text text-anchor=\"middle\" x=\"807.91\" y=\"-361.22\" font-family=\"Times New Roman,serif\" font-size=\"14.00\">node id: 12</text>\n<text text-anchor=\"middle\" x=\"807.91\" y=\"-346.22\" font-family=\"Times New Roman,serif\" font-size=\"14.00\">cl = 0 </text>\n<text text-anchor=\"middle\" x=\"807.91\" y=\"-331.22\" font-family=\"Times New Roman,serif\" font-size=\"14.00\">cl 0: 4</text>\n<text text-anchor=\"middle\" x=\"807.91\" y=\"-316.22\" font-family=\"Times New Roman,serif\" font-size=\"14.00\">cl 1: 0</text>\n</g>\n<!-- 6&#45;&gt;12 -->\n<g id=\"edge18\" class=\"edge\">\n<title>6&#45;&gt;12</title>\n<path fill=\"none\" stroke=\"black\" d=\"M710.38,-452.33C727.36,-433.37 748.33,-409.95 766.46,-389.7\"/>\n<polygon fill=\"black\" stroke=\"black\" points=\"768.97,-392.15 773.03,-382.36 763.76,-387.48 768.97,-392.15\"/>\n<text text-anchor=\"middle\" x=\"750.41\" y=\"-412.3\" font-family=\"Times New Roman,serif\" font-size=\"14.00\">1</text>\n</g>\n<!-- 17 -->\n<g id=\"node19\" class=\"node\">\n<title>17</title>\n<ellipse fill=\"red\" stroke=\"black\" cx=\"677.91\" cy=\"-195.25\" rx=\"55.72\" ry=\"48.17\"/>\n<text text-anchor=\"middle\" x=\"677.91\" y=\"-214.05\" font-family=\"Times New Roman,serif\" font-size=\"14.00\">node id: 17</text>\n<text text-anchor=\"middle\" x=\"677.91\" y=\"-199.05\" font-family=\"Times New Roman,serif\" font-size=\"14.00\">cl = 1 </text>\n<text text-anchor=\"middle\" x=\"677.91\" y=\"-184.05\" font-family=\"Times New Roman,serif\" font-size=\"14.00\">cl 0: 1</text>\n<text text-anchor=\"middle\" x=\"677.91\" y=\"-169.05\" font-family=\"Times New Roman,serif\" font-size=\"14.00\">cl 1: 1</text>\n</g>\n<!-- 11&#45;&gt;17 -->\n<g id=\"edge15\" class=\"edge\">\n<title>11&#45;&gt;17</title>\n<path fill=\"none\" stroke=\"black\" d=\"M677.91,-293.88C677.91,-281.48 677.91,-267.96 677.91,-255.04\"/>\n<polygon fill=\"black\" stroke=\"black\" points=\"681.41,-255.4 677.91,-245.4 674.41,-255.4 681.41,-255.4\"/>\n<text text-anchor=\"middle\" x=\"681.41\" y=\"-265.13\" font-family=\"Times New Roman,serif\" font-size=\"14.00\">0</text>\n</g>\n<!-- 18 -->\n<g id=\"node20\" class=\"node\">\n<title>18</title>\n<ellipse fill=\"yellow\" stroke=\"black\" cx=\"807.91\" cy=\"-195.25\" rx=\"55.72\" ry=\"48.17\"/>\n<text text-anchor=\"middle\" x=\"807.91\" y=\"-214.05\" font-family=\"Times New Roman,serif\" font-size=\"14.00\">node id: 18</text>\n<text text-anchor=\"middle\" x=\"807.91\" y=\"-199.05\" font-family=\"Times New Roman,serif\" font-size=\"14.00\">attr_6 </text>\n<text text-anchor=\"middle\" x=\"807.91\" y=\"-184.05\" font-family=\"Times New Roman,serif\" font-size=\"14.00\">cl 0: 2</text>\n<text text-anchor=\"middle\" x=\"807.91\" y=\"-169.05\" font-family=\"Times New Roman,serif\" font-size=\"14.00\">cl 1: 1</text>\n</g>\n<!-- 11&#45;&gt;18 -->\n<g id=\"edge16\" class=\"edge\">\n<title>11&#45;&gt;18</title>\n<path fill=\"none\" stroke=\"black\" d=\"M711.73,-303.65C728.44,-284.99 748.75,-262.31 766.4,-242.6\"/>\n<polygon fill=\"black\" stroke=\"black\" points=\"768.97,-244.99 773.03,-235.2 763.75,-240.32 768.97,-244.99\"/>\n<text text-anchor=\"middle\" x=\"750.41\" y=\"-265.13\" font-family=\"Times New Roman,serif\" font-size=\"14.00\">1</text>\n</g>\n<!-- 21 -->\n<g id=\"node21\" class=\"node\">\n<title>21</title>\n<ellipse fill=\"green\" stroke=\"black\" cx=\"742.91\" cy=\"-48.08\" rx=\"55.72\" ry=\"48.17\"/>\n<text text-anchor=\"middle\" x=\"742.91\" y=\"-66.88\" font-family=\"Times New Roman,serif\" font-size=\"14.00\">node id: 21</text>\n<text text-anchor=\"middle\" x=\"742.91\" y=\"-51.88\" font-family=\"Times New Roman,serif\" font-size=\"14.00\">cl = 0 </text>\n<text text-anchor=\"middle\" x=\"742.91\" y=\"-36.88\" font-family=\"Times New Roman,serif\" font-size=\"14.00\">cl 0: 1</text>\n<text text-anchor=\"middle\" x=\"742.91\" y=\"-21.88\" font-family=\"Times New Roman,serif\" font-size=\"14.00\">cl 1: 0</text>\n</g>\n<!-- 18&#45;&gt;21 -->\n<g id=\"edge13\" class=\"edge\">\n<title>18&#45;&gt;21</title>\n<path fill=\"none\" stroke=\"black\" d=\"M788.06,-149.91C781.53,-135.34 774.21,-118.98 767.38,-103.74\"/>\n<polygon fill=\"black\" stroke=\"black\" points=\"770.66,-102.48 763.38,-94.79 764.27,-105.34 770.66,-102.48\"/>\n<text text-anchor=\"middle\" x=\"781.41\" y=\"-117.97\" font-family=\"Times New Roman,serif\" font-size=\"14.00\">0</text>\n</g>\n<!-- 22 -->\n<g id=\"node22\" class=\"node\">\n<title>22</title>\n<ellipse fill=\"green\" stroke=\"black\" cx=\"872.91\" cy=\"-48.08\" rx=\"55.72\" ry=\"48.17\"/>\n<text text-anchor=\"middle\" x=\"872.91\" y=\"-66.88\" font-family=\"Times New Roman,serif\" font-size=\"14.00\">node id: 22</text>\n<text text-anchor=\"middle\" x=\"872.91\" y=\"-51.88\" font-family=\"Times New Roman,serif\" font-size=\"14.00\">cl = 0 </text>\n<text text-anchor=\"middle\" x=\"872.91\" y=\"-36.88\" font-family=\"Times New Roman,serif\" font-size=\"14.00\">cl 0: 1</text>\n<text text-anchor=\"middle\" x=\"872.91\" y=\"-21.88\" font-family=\"Times New Roman,serif\" font-size=\"14.00\">cl 1: 1</text>\n</g>\n<!-- 18&#45;&gt;22 -->\n<g id=\"edge14\" class=\"edge\">\n<title>18&#45;&gt;22</title>\n<path fill=\"none\" stroke=\"black\" d=\"M827.77,-149.91C834.29,-135.34 841.62,-118.98 848.44,-103.74\"/>\n<polygon fill=\"black\" stroke=\"black\" points=\"851.56,-105.34 852.45,-94.79 845.17,-102.48 851.56,-105.34\"/>\n<text text-anchor=\"middle\" x=\"846.41\" y=\"-117.97\" font-family=\"Times New Roman,serif\" font-size=\"14.00\">1</text>\n</g>\n</g>\n</svg>\n",
      "text/plain": "<graphviz.graphs.Digraph at 0x1e76ba996c0>"
     },
     "metadata": {},
     "output_type": "display_data"
    }
   ],
   "source": [
    "decision_tree = cm.build_tree(train_data, max_depth=max_depth)\n",
    "\n",
    "cm.print_graph(decision_tree, train_data)"
   ],
   "metadata": {
    "collapsed": false
   }
  },
  {
   "cell_type": "code",
   "execution_count": 30,
   "outputs": [
    {
     "data": {
      "text/plain": "0.19999999999999996"
     },
     "execution_count": 30,
     "metadata": {},
     "output_type": "execute_result"
    }
   ],
   "source": [
    "cm.get_error_rate(decision_tree, train_data)"
   ],
   "metadata": {
    "collapsed": false
   }
  },
  {
   "cell_type": "code",
   "execution_count": 31,
   "outputs": [
    {
     "data": {
      "text/plain": "0.4"
     },
     "execution_count": 31,
     "metadata": {},
     "output_type": "execute_result"
    }
   ],
   "source": [
    "cm.get_error_rate(decision_tree, valid_data)"
   ],
   "metadata": {
    "collapsed": false
   }
  },
  {
   "cell_type": "markdown",
   "metadata": {},
   "source": [
    "3.3) Consider only the training data set and answer the following questions:\n",
    "* What is the maximum depth of the tree (consider only the training data set)?\n",
    "* The tree building process should stop when there is no improvement in error rate (why?). Check for which value of \"max_dept\" there is no improvement in error rate. "
   ]
  },
  {
   "cell_type": "code",
   "execution_count": 32,
   "metadata": {},
   "outputs": [
    {
     "name": "stdout",
     "output_type": "stream",
     "text": [
      "maxdepth:  0 train:  0.4 valid 0.5\n",
      "maxdepth:  1 train:  0.35 valid 0.5\n",
      "maxdepth:  2 train:  0.30000000000000004 valid 0.5\n",
      "maxdepth:  3 train:  0.25 valid 0.4\n",
      "maxdepth:  4 train:  0.25 valid 0.5\n",
      "maxdepth:  5 train:  0.19999999999999996 valid 0.4\n",
      "maxdepth:  6 train:  0.19999999999999996 valid 0.4\n",
      "maxdepth:  7 train:  0.19999999999999996 valid 0.4\n",
      "maxdepth:  8 train:  0.19999999999999996 valid 0.4\n",
      "maxdepth:  9 train:  0.19999999999999996 valid 0.4\n"
     ]
    }
   ],
   "source": [
    "for max_depth in range(10):\n",
    "    decision_tree = cm.build_tree(train_data, max_depth=max_depth)\n",
    "    error_train = cm.get_error_rate(decision_tree, train_data)\n",
    "    error_valid = cm.get_error_rate(decision_tree, valid_data)\n",
    "    print(\"maxdepth: \", max_depth, \"train: \", error_train, \"valid\", error_valid)"
   ]
  },
  {
   "cell_type": "markdown",
   "source": [
    "Maximum tree depth is 6.\n",
    "\n",
    "For max_depth > 5, there is no improvement in error rate."
   ],
   "metadata": {
    "collapsed": false
   }
  }
 ],
 "metadata": {
  "kernelspec": {
   "display_name": "base",
   "language": "python",
   "name": "python3"
  },
  "language_info": {
   "codemirror_mode": {
    "name": "ipython",
    "version": 3
   },
   "file_extension": ".py",
   "mimetype": "text/x-python",
   "name": "python",
   "nbconvert_exporter": "python",
   "pygments_lexer": "ipython3",
   "version": "3.9.7 (default, Sep 16 2021, 16:59:28) [MSC v.1916 64 bit (AMD64)]"
  },
  "toc-autonumbering": false,
  "toc-showcode": false,
  "toc-showmarkdowntxt": true,
  "vscode": {
   "interpreter": {
    "hash": "5179d32cf6ec497baf3f8a3ef987cc77c5d2dc691fdde20a56316522f61a7323"
   }
  }
 },
 "nbformat": 4,
 "nbformat_minor": 4
}
